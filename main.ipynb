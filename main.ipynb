{
 "cells": [
  {
   "cell_type": "code",
   "execution_count": 1,
   "id": "5483104e-f25e-48a1-a88d-789582664090",
   "metadata": {},
   "outputs": [],
   "source": [
    "import pandas as ps\n",
    "import numpy as np \n",
    "import os\n",
    "import re"
   ]
  },
  {
   "cell_type": "code",
   "execution_count": 2,
   "id": "fce467aa-5b27-46dc-9f52-8d55445cda6f",
   "metadata": {},
   "outputs": [
    {
     "data": {
      "text/plain": [
       "['Flore du Cameroun tome 10 1970 Ombellales',\n",
       " 'Flore du Cameroun tome 10 1970 Ombellales.pdf',\n",
       " 'Flore du Cameroun tome 12 1972 Loganiaceae',\n",
       " 'Flore du Cameroun tome 12 1972 Loganiaceae.pdf',\n",
       " 'Flore du Cameroun tome 16 1973 Sapindaceae',\n",
       " 'Flore du Cameroun tome 16 1973 Sapindaceae.pdf',\n",
       " 'Flore du Cameroun tome 17 1974 Amaranthaceae',\n",
       " 'Flore du Cameroun tome 17 1974 Amaranthaceae.pdf',\n",
       " 'Flore du Cameroun tome 2 1964 Sapotacees',\n",
       " 'Flore du Cameroun tome 2 1964 Sapotacees.pdf',\n",
       " 'Flore du Cameroun tome 6 1967 Cucurbitaceae',\n",
       " 'Flore du Cameroun tome 6 1967 Cucurbitaceae.pdf',\n",
       " 'Flore du Cameroun tome 9 1970 Caesalpinioidae',\n",
       " 'Flore du Cameroun tome 9 1970 Caesalpinioidae.pdf']"
      ]
     },
     "execution_count": 2,
     "metadata": {},
     "output_type": "execute_result"
    }
   ],
   "source": [
    "os.listdir(\"data\")"
   ]
  },
  {
   "cell_type": "code",
   "execution_count": 165,
   "id": "461a607d-cb3b-40c4-b962-3eaf8f487823",
   "metadata": {},
   "outputs": [],
   "source": [
    "folder = []\n",
    "for item in os.listdir('data'):\n",
    "    if(len(item.split('.')) == 1):\n",
    "        folder.append(item)"
   ]
  },
  {
   "cell_type": "code",
   "execution_count": 166,
   "id": "a8aa7ff8-6509-4472-9fe1-e820116cf77f",
   "metadata": {},
   "outputs": [
    {
     "data": {
      "text/plain": [
       "['Flore du Cameroun tome 10 1970 Ombellales',\n",
       " 'Flore du Cameroun tome 12 1972 Loganiaceae',\n",
       " 'Flore du Cameroun tome 16 1973 Sapindaceae',\n",
       " 'Flore du Cameroun tome 17 1974 Amaranthaceae',\n",
       " 'Flore du Cameroun tome 2 1964 Sapotacees',\n",
       " 'Flore du Cameroun tome 6 1967 Cucurbitaceae',\n",
       " 'Flore du Cameroun tome 9 1970 Caesalpinioidae']"
      ]
     },
     "execution_count": 166,
     "metadata": {},
     "output_type": "execute_result"
    }
   ],
   "source": [
    "folder"
   ]
  },
  {
   "cell_type": "code",
   "execution_count": 4,
   "id": "5d371ff5-40b0-4879-b476-79543613fdf9",
   "metadata": {},
   "outputs": [
    {
     "data": {
      "text/plain": [
       "'cle des especes camerounaises et gabonaises'"
      ]
     },
     "execution_count": 4,
     "metadata": {},
     "output_type": "execute_result"
    }
   ],
   "source": [
    "def f_remove_accents(old):\n",
    "    \"\"\"\n",
    "    Removes common accent characters, lower form.\n",
    "    Uses: regex.\n",
    "    \"\"\"\n",
    "    new = old.lower()\n",
    "    new = re.sub(r'[àáâãäå]', 'a', new)\n",
    "    new = re.sub(r'[èéêë]', 'e', new)\n",
    "    new = re.sub(r'[ìíîï]', 'i', new)\n",
    "    new = re.sub(r'[òóôõö]', 'o', new)\n",
    "    new = re.sub(r'[ùúûü]', 'u', new)\n",
    "    return new\n",
    "f_remove_accents(\"CLÉ DES ESPÈCES CAMEROUNAISES ET GABONAISES\")\n"
   ]
  },
  {
   "cell_type": "code",
   "execution_count": 5,
   "id": "25d75e29-aa8e-45f9-894d-a3e9c727941b",
   "metadata": {},
   "outputs": [
    {
     "name": "stdout",
     "output_type": "stream",
     "text": [
      "=============================================================\n",
      "data/Flore du Cameroun tome 12 1972 Loganiaceae\n",
      "cle des especes camerounaises et gabonaises\n",
      "cle des especes camerounaises et gabonaises\n",
      "cle des especes camerounaises et gabonaises\n",
      "cle des especes camerounaises et gabonaises\n"
     ]
    }
   ],
   "source": [
    "famille =[]\n",
    "famille_ = []\n",
    "tailles = []\n",
    "\n",
    "#for f in folder:\n",
    "path = 'data/' + 'Flore du Cameroun tome 12 1972 Loganiaceae'\n",
    "print(\"=============================================================\")\n",
    "print(path)\n",
    "for i in range(len(os.listdir(path))):\n",
    "    with open(path+'/'+ str(i+1) +'.txt', 'r') as fp:\n",
    "        lines = fp.readlines()\n",
    "        #print(\"=================\")\n",
    "        for j in range(len(lines)):\n",
    "            l = lines[j].strip()\n",
    "            l = l.replace('  ',' ')\n",
    "            #print(l)\n",
    "            l = f_remove_accents(l)\n",
    "            x = re.search(\"^cle.*espece\", l)\n",
    "            if(x):\n",
    "                print(l)"
   ]
  },
  {
   "cell_type": "code",
   "execution_count": 6,
   "id": "7727611d-7d7c-4666-bd1b-3accac316a1b",
   "metadata": {},
   "outputs": [
    {
     "name": "stdout",
     "output_type": "stream",
     "text": [
      "=============================================================\n",
      "data/Flore du Cameroun tome 9 1970 Caesalpinioidae\n",
      "CLEF DES ESPÈCES DE CÉSALPINIOÏDÉES \n",
      "\n",
      "CLEF DES ESPÈCES \n",
      "\n",
      "CLEF DES ESPÈCES \n",
      "\n",
      "CLEF DES ESPÈCES \n",
      "\n",
      "CLEF DES ESPÈCES \n",
      "\n",
      "CLEF DES ESPÈCES \n",
      "\n",
      "CLEF DES GROUPES ET ESPÈCES \n",
      "\n",
      "CLEF DES ESPÈCES \n",
      "\n",
      "CLEF DES ESPÈCES \n",
      "\n",
      "CLEF DES ESPÈCES \n",
      "\n",
      "CLEF DES ESPÈCES \n",
      "\n",
      "CLEFS DES ESPÈCES \n",
      "\n",
      "CLEF DES ESPÈCES \n",
      "\n",
      "CLEF DES ESPÈCES \n",
      "\n",
      "CLEF DES ESPÈCES \n",
      "\n",
      "CLEF DES ESPÈCES \n",
      "\n",
      "CLEF DES ESPÈCES \n",
      "\n",
      "CLEF DÈS ESPÈCES \n",
      "\n",
      "CLEF DES ESPÈCES \n",
      "\n",
      "CLEF DES ESPÈCES \n",
      "\n",
      "CLEF DES ESPÈCES \n",
      "\n",
      "CLEF DES ESPÈCES \n",
      "\n",
      "CLEF DES ESPÈCES \n",
      "\n",
      "CLEF DES ESPÈCES \n",
      "\n",
      "CLEF DES ESPÈCES \n",
      "\n",
      "CLEF DES ESPÈCES \n",
      "\n",
      "CLEF DES ESPÈCES \n",
      "\n",
      "CLEF DES ESPÈCES \n",
      "\n",
      "CLEF DES ESPÈCES \n",
      "\n",
      "CLEF DES ESPÈCES \n",
      "\n",
      "CLEF DES ESPÈCES D'APBÈS LES FEUILLES \n",
      "\n",
      "CLEF DES ESPÈCES \n",
      "\n",
      "CLEF DES ESPÈCES \n",
      "\n",
      "CLEF DES ESPÈCES \n",
      "\n"
     ]
    }
   ],
   "source": [
    "path = 'data/' + 'Flore du Cameroun tome 9 1970 Caesalpinioidae'\n",
    "print(\"=============================================================\")\n",
    "print(path)\n",
    "for i in range(len(os.listdir(path))):\n",
    "    with open(path+'/'+ str(i+1) +'.txt', 'r') as fp:\n",
    "        lines = fp.readlines()\n",
    "        #print(\"=================\")\n",
    "        for j in range(len(lines)):\n",
    "            l = lines[j].strip()\n",
    "            l = l.replace('  ',' ')\n",
    "            #print(l)\n",
    "            l = f_remove_accents(l)\n",
    "            x = re.search(\"^cle.*espece\", l)\n",
    "            if(x):\n",
    "                print(lines[j])"
   ]
  },
  {
   "cell_type": "code",
   "execution_count": 7,
   "id": "229f0e2a-4c60-487a-b3cf-ee73772d04d3",
   "metadata": {},
   "outputs": [
    {
     "name": "stdout",
     "output_type": "stream",
     "text": [
      "=============================================================\n",
      "data/Flore du Cameroun tome 2 1964 Sapotacees\n",
      "CLEF  DES  ESPÈCES \n",
      "\n",
      "CLEF  DES  ESPÈCES \n",
      "\n",
      "CLEF  DES  ESPÈCES \n",
      "\n",
      "CLEF  DES  ESPÈCES  (i) \n",
      "\n",
      "CLEF  DES  ESPÈCES \n",
      "\n"
     ]
    }
   ],
   "source": [
    "path = 'data/' + 'Flore du Cameroun tome 2 1964 Sapotacees'\n",
    "print(\"=============================================================\")\n",
    "print(path)\n",
    "for i in range(len(os.listdir(path))):\n",
    "    with open(path+'/'+ str(i+1) +'.txt', 'r') as fp:\n",
    "        lines = fp.readlines()\n",
    "        #print(\"=================\")\n",
    "        for j in range(len(lines)):\n",
    "            l = lines[j].strip()\n",
    "            l = l.replace('  ',' ')\n",
    "            #print(l)\n",
    "            l = f_remove_accents(l)\n",
    "            x = re.search(\"^cle.*espece\", l)\n",
    "            if(x):\n",
    "                print(lines[j])"
   ]
  },
  {
   "cell_type": "code",
   "execution_count": null,
   "id": "20bb85a4-3e8f-4480-b855-3bfa9d3b857f",
   "metadata": {},
   "outputs": [],
   "source": [
    "\"ESPÈCES\".lower()"
   ]
  },
  {
   "cell_type": "code",
   "execution_count": 8,
   "id": "ecd822c7-5801-441b-a126-a117df23992d",
   "metadata": {},
   "outputs": [
    {
     "name": "stdout",
     "output_type": "stream",
     "text": [
      "=============================================================\n",
      "data/Flore du Cameroun tome 12 1972 Loganiaceae\n",
      "9\n",
      "cle des especes camerounaises et gabonaises\n",
      "30\n",
      "cle des especes camerounaises et gabonaises\n",
      "49\n",
      "cle des especes camerounaises et gabonaises\n",
      "54\n",
      "cle des especes camerounaises et gabonaises\n"
     ]
    }
   ],
   "source": [
    "famille =[]\n",
    "famille_ = []\n",
    "tailles = []\n",
    "\n",
    "#for f in folder:\n",
    "path = 'data/' + 'Flore du Cameroun tome 12 1972 Loganiaceae'\n",
    "print(\"=============================================================\")\n",
    "print(path)\n",
    "for i in range(len(os.listdir(path))):\n",
    "    with open(path+'/'+ str(i+1) +'.txt', 'r') as fp:\n",
    "        lines = fp.readlines()\n",
    "        #print(\"=================\")\n",
    "        for j in range(len(lines)):\n",
    "            l = lines[j].strip()\n",
    "            l = l.replace('  ',' ')\n",
    "            #print(l)\n",
    "            l = f_remove_accents(l)\n",
    "            x = re.search(\"^cle.*espece\", l)\n",
    "            if(x):\n",
    "                print(i+1)\n",
    "                print(l)"
   ]
  },
  {
   "cell_type": "code",
   "execution_count": 84,
   "id": "aca7e94c",
   "metadata": {},
   "outputs": [],
   "source": [
    "path = 'data/' + 'Flore du Cameroun tome 17 1974 Amaranthaceae'"
   ]
  },
  {
   "cell_type": "code",
   "execution_count": 85,
   "id": "6be60c42",
   "metadata": {
    "scrolled": false
   },
   "outputs": [
    {
     "name": "stdout",
     "output_type": "stream",
     "text": [
      "=============================================================\n",
      "data/Flore du Cameroun tome 17 1974 Amaranthaceae\n",
      "8\n",
      "cle des especes\n",
      "18\n",
      "cle des especes\n",
      "27\n",
      "cle des especes\n",
      "34\n",
      "cle des especes\n",
      "39\n",
      "cle des especes\n",
      "45\n",
      "cle des especes\n",
      "55\n",
      "cle des especes\n",
      "61\n",
      "cle des especes\n"
     ]
    }
   ],
   "source": [
    "print(\"=============================================================\")\n",
    "print(path)\n",
    "for i in range(len(os.listdir(path))):\n",
    "    with open(path+'/'+ str(i+1) +'.txt', 'r') as fp:\n",
    "        lines = fp.readlines()\n",
    "        #print(\"=================\")\n",
    "        for j in range(len(lines)):\n",
    "            l = lines[j].strip()\n",
    "            l = l.replace('  ',' ')\n",
    "            #print(l)\n",
    "            l = f_remove_accents(l)\n",
    "            x = re.search(\"cle.?\\sdes\\sespece\", l)\n",
    "            if(x):\n",
    "                print(i+1)\n",
    "                print(l)"
   ]
  },
  {
   "cell_type": "code",
   "execution_count": 83,
   "id": "2c060c7d-fb38-4015-8752-da5ef43b3954",
   "metadata": {},
   "outputs": [
    {
     "name": "stdout",
     "output_type": "stream",
     "text": [
      "['1. a. senegalensis.']\n"
     ]
    }
   ],
   "source": [
    "with open(path+'/'+ str(78) +'.txt', 'r') as fp:\n",
    "    lines = fp.readlines()\n",
    "    #print(\"=================\")\n",
    "    for j in range(len(lines)):\n",
    "        #print(lines[j])\n",
    "        l = lines[j].strip()\n",
    "        l = l.replace('  ',' ')\n",
    "        #print(l)\n",
    "        l = f_remove_accents(l)\n",
    "        x = re.findall(\"[A-Za-z0-9]\\.\\s\\w\\.\\s\\w+\\.?$\", l)\n",
    "        if(x):\n",
    "            print(x)"
   ]
  },
  {
   "cell_type": "markdown",
   "id": "07d92b4a",
   "metadata": {},
   "source": [
    "# ============================="
   ]
  },
  {
   "cell_type": "code",
   "execution_count": 123,
   "id": "ce3edca7-b83c-4cfe-b63d-288fa15132d9",
   "metadata": {},
   "outputs": [
    {
     "name": "stdout",
     "output_type": "stream",
     "text": [
      "[' 0. lecomteanum']\n",
      "[' o. procerum']\n",
      "[' o. elatum']\n",
      "[' o. lecomteanum']\n"
     ]
    }
   ],
   "source": [
    "with open(path+'/'+ str(61) +'.txt', 'r') as fp:\n",
    "    lines = fp.readlines()\n",
    "    #print(\"=================\")\n",
    "    for j in range(len(lines)):\n",
    "        #print(lines[j])\n",
    "        l = lines[j].strip()\n",
    "        l = l.replace('  ',' ')\n",
    "        #print(l)\n",
    "        l = f_remove_accents(l)\n",
    "        x = re.findall(\"\\d\\.\\s\\w\\.\\s\\w+\\.$\", l)\n",
    "        y = re.findall(\"\\s\\w\\.\\s\\w+$\", l)\n",
    "        if(x):\n",
    "            print(x)\n",
    "        if(y):\n",
    "            print(y)\n",
    "        \n",
    "        #   print(l)"
   ]
  },
  {
   "cell_type": "code",
   "execution_count": 104,
   "id": "05888e28-1ce4-4d65-afc3-b3f414314052",
   "metadata": {},
   "outputs": [
    {
     "name": "stdout",
     "output_type": "stream",
     "text": [
      "=============================================================\n",
      "data/Flore du Cameroun tome 2 1964 Sapotacees\n",
      "61\n",
      "clef des especes\n",
      "92\n",
      "clef des especes\n",
      "101\n",
      "clef des especes\n",
      "108\n",
      "clef des especes (i)\n",
      "122\n",
      "clef des especes\n"
     ]
    }
   ],
   "source": [
    "famille =[]\n",
    "famille_ = []\n",
    "tailles = []\n",
    "\n",
    "#for f in folder:\n",
    "path = 'data/' + 'Flore du Cameroun tome 2 1964 Sapotacees'\n",
    "print(\"=============================================================\")\n",
    "print(path)\n",
    "for i in range(len(os.listdir(path))):\n",
    "    with open(path+'/'+ str(i+1) +'.txt', 'r') as fp:\n",
    "        lines = fp.readlines()\n",
    "        #print(\"=================\")\n",
    "        for j in range(len(lines)):\n",
    "            l = lines[j].strip()\n",
    "            l = l.replace('  ',' ')\n",
    "            #print(l)\n",
    "            l = f_remove_accents(l)\n",
    "            x = re.search(\"^cle.*espece\", l)\n",
    "            if(x):\n",
    "                print(i+1)\n",
    "                print(l)"
   ]
  },
  {
   "cell_type": "code",
   "execution_count": 121,
   "id": "bf81f608-9e80-4110-82e6-c3eb8f928b1c",
   "metadata": {},
   "outputs": [
    {
     "name": "stdout",
     "output_type": "stream",
     "text": [
      "[' d. ogowensis']\n",
      "[' d. ubangmensis']\n"
     ]
    }
   ],
   "source": [
    "with open(path+'/'+ str(122) +'.txt', 'r') as fp:\n",
    "    lines = fp.readlines()\n",
    "    #print(\"=================\")\n",
    "    for j in range(len(lines)):\n",
    "        #print(lines[j])\n",
    "        l = lines[j].strip()\n",
    "        l = l.replace('  ',' ')\n",
    "        #print(l)\n",
    "        l = f_remove_accents(l)\n",
    "        x = re.findall(\"\\s\\w\\.\\s\\w+$\", l)\n",
    "        if(x):\n",
    "            print(x)"
   ]
  },
  {
   "cell_type": "markdown",
   "id": "d5c05e41",
   "metadata": {},
   "source": [
    "## Extract species names"
   ]
  },
  {
   "cell_type": "code",
   "execution_count": 86,
   "id": "f93c1141",
   "metadata": {},
   "outputs": [],
   "source": [
    "def especes_pages(path):\n",
    "    pages = []\n",
    "    for i in range(len(os.listdir(path))):\n",
    "        with open(path+'/'+ str(i+1) +'.txt', 'r') as fp:\n",
    "            lines = fp.readlines()\n",
    "            #print(\"=================\")\n",
    "            for j in range(len(lines)):\n",
    "                l = lines[j].strip()\n",
    "                l = l.replace('  ',' ')\n",
    "                l = f_remove_accents(l)\n",
    "                x = re.search(\"cle.?\\sdes\\sespece\", l)\n",
    "                if(x):\n",
    "                    pages.append(i+1)\n",
    "                    pages.append(i+2)\n",
    "                    pages.append(i+3)\n",
    "    return pages"
   ]
  },
  {
   "cell_type": "code",
   "execution_count": 126,
   "id": "3e9907ed",
   "metadata": {},
   "outputs": [],
   "source": [
    "def get_especes(pages):\n",
    "    especes = []\n",
    "    for p in pages:\n",
    "        with open(path+'/'+ str(p) +'.txt', 'r') as fp:\n",
    "            lines = fp.readlines()\n",
    "            for j in range(len(lines)):\n",
    "                l = lines[j].strip()\n",
    "                l = l.replace('  ',' ')\n",
    "                l = f_remove_accents(l)\n",
    "                x = re.findall(\"\\s\\w\\.\\s\\w+$\", l)\n",
    "                x = re.findall(\"[A-Za-z0-9]\\.\\s\\w\\.\\s\\w+\\.?$\", l)\n",
    "                if(x):\n",
    "                    especes.append(x)\n",
    "    especes = np.array(especes).reshape(-1)\n",
    "    esp = [esp.strip().split(' ')[2][:-1] for esp in especes]\n",
    "    initials = [esp.strip().split(' ')[1][:-1].upper() for esp in especes]\n",
    "    return esp, initials\n",
    "\n",
    "def preprocess(line):\n",
    "    l = line.strip()\n",
    "    l = l.replace('  ',' ')\n",
    "    #l = f_remove_accents(l)\n",
    "    return l"
   ]
  },
  {
   "cell_type": "markdown",
   "id": "7308e691",
   "metadata": {},
   "source": [
    "## get species full name"
   ]
  },
  {
   "cell_type": "code",
   "execution_count": 159,
   "id": "7663bcb1",
   "metadata": {},
   "outputs": [],
   "source": [
    "def get_especes_names(especes, initials, path):\n",
    "    esp_names = []\n",
    "    for i in range(len(os.listdir(path))):\n",
    "        with open(path+'/'+ str(i+1) +'.txt', 'r') as fp:\n",
    "            lines = fp.readlines()\n",
    "            for j in range(len(lines)):\n",
    "                l = preprocess(lines[j])\n",
    "                for i, esp in enumerate(especes):\n",
    "                    contains = l.find(esp.capitalize()) != -1 or l.find(esp) != -1 \n",
    "                    if contains:\n",
    "                        exp = \"^[1-9]\\.\\s{}[a-z]+.*\".format(initials[i])\n",
    "                        x = re.findall(exp, l)\n",
    "                        if(x):\n",
    "                            full_name = x[0].strip()[3:]\n",
    "                            full_name = full_name.split(' ')[0]+' '+full_name.split(' ')[1]\n",
    "                            esp_names.append(full_name)\n",
    "    return esp_names"
   ]
  },
  {
   "cell_type": "markdown",
   "id": "c3e691ff",
   "metadata": {},
   "source": [
    "## Execute"
   ]
  },
  {
   "cell_type": "code",
   "execution_count": 175,
   "id": "60acac16",
   "metadata": {},
   "outputs": [
    {
     "name": "stdout",
     "output_type": "stream",
     "text": [
      "data/Flore du Cameroun tome 10 1970 Ombellales\n",
      "======================\n",
      "Species number : 17\n",
      "Species title number : 16\n",
      "data/Flore du Cameroun tome 12 1972 Loganiaceae\n",
      "======================\n",
      "Species number : 63\n",
      "Species title number : 43\n",
      "data/Flore du Cameroun tome 16 1973 Sapindaceae\n",
      "======================\n",
      "Species number : 62\n",
      "Species title number : 41\n",
      "data/Flore du Cameroun tome 17 1974 Amaranthaceae\n",
      "======================\n",
      "Species number : 21\n",
      "Species title number : 17\n",
      "data/Flore du Cameroun tome 2 1964 Sapotacees\n",
      "======================\n",
      "Species number : 33\n",
      "Species title number : 33\n",
      "data/Flore du Cameroun tome 6 1967 Cucurbitaceae\n",
      "======================\n",
      "Species number : 37\n",
      "Species title number : 30\n",
      "data/Flore du Cameroun tome 9 1970 Caesalpinioidae\n",
      "======================\n",
      "Species number : 92\n",
      "Species title number : 69\n"
     ]
    }
   ],
   "source": [
    "paths = ['data/'+ fold for fold in folder]\n",
    "names = []\n",
    "for path in paths:\n",
    "    print(path)\n",
    "    print(\"======================\")\n",
    "    pages = especes_pages(path)\n",
    "    especes, initials = get_especes(pages)\n",
    "    print(\"Species number : \"+ str(len(especes)))\n",
    "    all_species = get_especes_names(especes,initials, path)\n",
    "    names += all_species\n",
    "    print(\"Species title number : \"+ str(len(all_species)))"
   ]
  },
  {
   "cell_type": "code",
   "execution_count": 177,
   "id": "3b05b9dc",
   "metadata": {},
   "outputs": [
    {
     "data": {
      "text/plain": [
       "213"
      ]
     },
     "execution_count": 177,
     "metadata": {},
     "output_type": "execute_result"
    }
   ],
   "source": [
    "len(set(names))"
   ]
  },
  {
   "cell_type": "code",
   "execution_count": 172,
   "id": "ddefabd5",
   "metadata": {
    "scrolled": true
   },
   "outputs": [
    {
     "data": {
      "text/plain": [
       "['Griffonia physocarpa',\n",
       " 'Griffonia speciosa',\n",
       " 'Piliostigma Thonningii',\n",
       " 'Piliostigma reticulatum',\n",
       " 'Amphimas ferrugineus',\n",
       " 'Amphimas pterocarpoides',\n",
       " 'Dialium Dinklagei',\n",
       " 'Dialium Zenkeri',\n",
       " 'Cassia Mannii',\n",
       " 'Cassia mimosoides',\n",
       " 'Cassia Kirkii',\n",
       " 'Cassia alata',\n",
       " 'Cassia italica',\n",
       " 'Cassia Sieberana',\n",
       " 'Cassia obtusifolia',\n",
       " 'Gilletiodendron Mildbraedii',\n",
       " 'Cynometra Mannii',\n",
       " 'Plagiosiphon emarginatus',\n",
       " 'Plagiosiphon longitubus',\n",
       " 'Plagiosiphon multijugus',\n",
       " 'Plagiosiphon discifer',\n",
       " 'Hymenostegia brachyura',\n",
       " 'Hymenostegia Breteleri',\n",
       " 'Hymenostegia Felicis',\n",
       " 'Afzelia africana',\n",
       " 'Oxystigma Buchholzii',\n",
       " 'Copaifera Mildbraedii',\n",
       " 'Copaifera religiosa',\n",
       " 'Detarium microcarpum',\n",
       " 'Detarium macrocarpum',\n",
       " 'Tessmannia anomala',\n",
       " 'Tessmannia africana',\n",
       " 'Daniellia Oliveri',\n",
       " 'Daniellia oblonga',\n",
       " 'Isomacrolobium leptorrhachis',\n",
       " 'Isomacrolobium isopetalum',\n",
       " 'Anthonotha ferruginea',\n",
       " 'Anthonotha lamprophylla',\n",
       " 'Anthonotha fragrans',\n",
       " 'Gilbertiodendron ogoouense',\n",
       " 'Gilbertiodendron brachystegioides',\n",
       " 'Gilbertiodendron brachystegioides',\n",
       " 'Gilbertiodendron Dewevrei',\n",
       " 'GiLbertiodendron pachyanthum',\n",
       " 'Gilbertiodendron mayombense',\n",
       " 'Gilbertiodendron demonstrans',\n",
       " 'Gilbertiodendron Klainei',\n",
       " 'Didelotia Letouzeyi',\n",
       " 'Didelotia africana',\n",
       " 'Didelotia unifoliolata',\n",
       " 'Isoberlinia tomentosa',\n",
       " 'Berlinia bracteosa',\n",
       " 'Berlinia grandiflora',\n",
       " 'Berlinia auriculata',\n",
       " 'Berlinia Craibiana',\n",
       " 'Aphanocalyx margininervatus',\n",
       " 'Brachystegia Mildbraedii',\n",
       " 'Brachystegia cynometroides',\n",
       " 'Brachystegia Zenkeri',\n",
       " 'Brachystegia eurycoma',\n",
       " 'Tetraberlinia bifoliolata',\n",
       " 'Tetraberlinia polyphylla',\n",
       " 'Monopetalanthus Hedinii',\n",
       " 'Monopetalanthus microphyllus',\n",
       " 'Monopetalanthus Pellegrinii',\n",
       " 'Swartzia fistuloides',\n",
       " 'Swartzia madagascariensis',\n",
       " 'Csesalpinia Welwitschiana',\n",
       " 'Erythrophleum ivorense']"
      ]
     },
     "execution_count": 172,
     "metadata": {},
     "output_type": "execute_result"
    }
   ],
   "source": [
    "all_species"
   ]
  },
  {
   "cell_type": "markdown",
   "id": "3f711e01-19e4-4e0c-8cdc-d63c24f007ac",
   "metadata": {},
   "source": [
    "# =================================\n",
    "# Find organes and descriptors"
   ]
  },
  {
   "cell_type": "code",
   "execution_count": 185,
   "id": "cc3c79fb",
   "metadata": {},
   "outputs": [],
   "source": [
    "from bs4 import BeautifulSoup as bs\n",
    "import requests"
   ]
  },
  {
   "cell_type": "code",
   "execution_count": 186,
   "id": "f27d127e",
   "metadata": {},
   "outputs": [],
   "source": [
    "url=\"https://fr.wikipedia.org/wiki/Glossaire_de_botanique\"\n",
    "response = requests.get(url)"
   ]
  },
  {
   "cell_type": "code",
   "execution_count": 187,
   "id": "f3fd1b35",
   "metadata": {},
   "outputs": [],
   "source": [
    "html = response.content"
   ]
  },
  {
   "cell_type": "code",
   "execution_count": 189,
   "id": "b144b7c5",
   "metadata": {},
   "outputs": [],
   "source": [
    "soup = bs(html, 'lxml')"
   ]
  },
  {
   "cell_type": "code",
   "execution_count": 191,
   "id": "f41949c6",
   "metadata": {},
   "outputs": [
    {
     "data": {
      "text/plain": [
       "<title>Glossaire de botanique — Wikipédia</title>"
      ]
     },
     "execution_count": 191,
     "metadata": {},
     "output_type": "execute_result"
    }
   ],
   "source": [
    "soup.title"
   ]
  },
  {
   "cell_type": "code",
   "execution_count": 558,
   "id": "fb774666",
   "metadata": {},
   "outputs": [],
   "source": [
    "def get_glossaire(soup):\n",
    "    glossaire = []\n",
    "    div = soup.find(\"div\", {\"class\" : \"mw-parser-output\"})\n",
    "    uls = div.find_all(\"ul\")\n",
    "    for i, ul in enumerate(uls):\n",
    "        lis = ul.find_all(\"li\")\n",
    "        for li in lis:\n",
    "            if li.find(\"b\") != None:\n",
    "                noun = li.get_text().split(':')[0][:-1].strip()\n",
    "                if re.search(\"adjectif\",li.get_text()) or re.search(\"se dit\\s\",li.get_text()) or re.search(\"é$\",noun) or re.search(\"qualifie\\s\",li.get_text()):\n",
    "                    glossaire.append((noun.split(' ')[0].lower(), \"adj\"))\n",
    "                    #print(noun.strip().split(' ')[0].lower() + ': adj')\n",
    "                else:\n",
    "                    glossaire.append((noun.split(' ')[0].lower(), \"noun\"))\n",
    "                    #print(noun.strip().split(' ')[0].lower() + ': adj')\n",
    "    return glossaire"
   ]
  },
  {
   "cell_type": "code",
   "execution_count": 559,
   "id": "cf523ff4",
   "metadata": {},
   "outputs": [],
   "source": [
    "glossaire = get_glossaire(soup)"
   ]
  },
  {
   "cell_type": "code",
   "execution_count": 555,
   "id": "a6018e48",
   "metadata": {},
   "outputs": [
    {
     "data": {
      "text/plain": [
       "[('abaxial', 'adj'),\n",
       " ('aberrant', 'adj'),\n",
       " ('abortif', 'adj'),\n",
       " ('abrévié', 'adj'),\n",
       " ('abruptement', 'noun'),\n",
       " ('abscise', 'noun'),\n",
       " ('absciser', 'noun'),\n",
       " ('abscisse', 'noun'),\n",
       " ('abscission', 'noun'),\n",
       " ('acanthocarpe', 'adj')]"
      ]
     },
     "execution_count": 555,
     "metadata": {},
     "output_type": "execute_result"
    }
   ],
   "source": [
    "glossaire[:10]"
   ]
  },
  {
   "cell_type": "code",
   "execution_count": 441,
   "id": "9836ce54-5ad8-42e1-8a8b-9ef2d174d2c1",
   "metadata": {},
   "outputs": [],
   "source": [
    "organes = [\n",
    "    \"racine\",\n",
    "    \"tige\",\n",
    "    \"bourgeon\",\n",
    "    \"rhizome\",\n",
    "    \"tubercule\",\n",
    "    \"bulbe\",\n",
    "    \"collet\",\n",
    "    \"limbe\",\n",
    "    \"lobe\",\n",
    "    \"pétiole\",\n",
    "    \"sessile\",\n",
    "    \"foliole\",\n",
    "    \"calice\",\n",
    "    \"sépale\",\n",
    "    \"calicule\",\n",
    "    \"corolle\",\n",
    "    \"anthère\"\n",
    "    \"tépale\",\n",
    "    \"stipule\",\n",
    "    \"foliole\",\n",
    "    \"carpelle\",\n",
    "    \"grappe \",\n",
    "    \"vrille\",\n",
    "    \"feuille\"\n",
    "]"
   ]
  },
  {
   "cell_type": "code",
   "execution_count": 560,
   "id": "a53d8a6b",
   "metadata": {},
   "outputs": [],
   "source": [
    "adjs = [gls[0].lower() for gls in glossaire if gls[1] == \"adj\"]\n",
    "nouns = [gls[0].lower() for gls in glossaire if gls[1] == \"noun\"]"
   ]
  },
  {
   "cell_type": "markdown",
   "id": "c19edd22",
   "metadata": {},
   "source": [
    "## TEST ==============="
   ]
  },
  {
   "cell_type": "code",
   "execution_count": 348,
   "id": "4fdde548",
   "metadata": {},
   "outputs": [],
   "source": [
    "from nltk import pos_tag, word_tokenize\n",
    "from nltk.stem.snowball import SnowballStemmer\n",
    "stemmer = SnowballStemmer(language='french')"
   ]
  },
  {
   "cell_type": "code",
   "execution_count": 562,
   "id": "2ca2db3e",
   "metadata": {},
   "outputs": [],
   "source": [
    "text = \"\"\"\n",
    "Plante  herbacée  grimpante  dioïque  à tiges  grêles,  sillonnées, \n",
    "glabres. \n",
    "Feuilles  pétiolées;  pétiole  grêle,  légèrement  pubescent  ou \n",
    "glabre,  portant  à son  sommet  deux  glandes  coniques,  longues  de \n",
    "7-20 mm;  limbe  membraneux  ovale-oblong  ou largement  ovale, \n",
    "5-11  X 4\"7  cm,  glabre  sur les deux  faces,  tronqué  à la base  ou très \n",
    "légèrement  émarginé,  parfois  3-5-lobé,  lobes  aigus  ou apiculés, \n",
    "triangulaires,  bords  faiblement  sinueux-dentés.  Des  trois  nervures \n",
    "basilaires,  les deux  latérales  se bifurquent  très  tôt;  nervures  net-\n",
    "tement  saillantes  à la face  inférieure,  marquées  à la face  supérieure. \n",
    "Vrilles  grêles,  simples,  glabres. \n",
    "Inflorescences  ¿ en racèmes  pauciflores,  6-10  fleurs  environ, \n",
    "fleurs  blanches,  axes  des racèmes  atteignant  8-12  cm de longueur, \n",
    "glabres;  pédicelles  glabres,  longs  de 5-20  mm,  bractée  minuscule. \n",
    "Coupe  florale  très  allongée,  globuleuse  à la base,  puis  rétrécie  et \n",
    "enfin  cylindrique,  atteignant  5o mm  de longueur,  glabre  à la face \n",
    "externe,  villeuse  sur  la face  interne,  10 mm  de diamètre  à la \n",
    "gorge.  Sépales  linéaires  aigus,  longs  de 4-5  mm  glabres,  portant \n",
    "quelques  glandes  sur leurs  bords.  Pétales  obovales,  finement  pubes-\n",
    "cents  sur les deux  faces,  à bords  plus  ou moins  enroulés,  longs  de \n",
    "2-3 cm.  Anthères  cohérentes  au milieu  de la coupe  florale,  loges \n",
    "condupliquées,  longues  de I,5-2  cm,  filets  très  courts. \n",
    "\"\"\""
   ]
  },
  {
   "cell_type": "code",
   "execution_count": 600,
   "id": "3e3257ec",
   "metadata": {},
   "outputs": [
    {
     "data": {
      "text/plain": [
       "'sépales linéaires aigus , longs de 4-5 mm glabres , portant quelques glandes sur leurs bords .'"
      ]
     },
     "execution_count": 600,
     "metadata": {},
     "output_type": "execute_result"
    }
   ],
   "source": [
    "#get sentences\n",
    "\n",
    "sent = sentences[6]\n",
    "sent = sent.replace(\"\\n\", \"\").lower()\n",
    "sent = preprocess(sent)\n",
    "sent = \" \".join(word_tokenize(sent))\n",
    "sent"
   ]
  },
  {
   "cell_type": "code",
   "execution_count": 611,
   "id": "0474726a",
   "metadata": {},
   "outputs": [],
   "source": [
    "def organe_(sent):\n",
    "    pos = []\n",
    "    tokens = word_tokenize(sent)\n",
    "    for org in organes:\n",
    "        stem = org\n",
    "        start = [m.start() for m in re.finditer(stem, sent)]\n",
    "        if len(start) != 0:\n",
    "            for st in start:\n",
    "                begin = st\n",
    "                end = st + sent[begin:].find(' ')\n",
    "                pos.append((sent[begin:end], (begin, end)))\n",
    "    return pos\n",
    "\n",
    "def descripteur(sent):\n",
    "    pos = []\n",
    "    tokens = word_tokenize(sent)\n",
    "    for adj in adjs:\n",
    "        stem = adj\n",
    "        start = [m.start() for m in re.finditer(stem, sent)]\n",
    "        if len(start) != 0:\n",
    "            for st in start:\n",
    "                begin = st\n",
    "                end = st + sent[begin:].find(' ')\n",
    "                pos.append((sent[begin:end], (begin, end)))\n",
    "    return pos"
   ]
  },
  {
   "cell_type": "code",
   "execution_count": 607,
   "id": "48a45f47",
   "metadata": {},
   "outputs": [
    {
     "data": {
      "text/plain": [
       "'sépales linéaires aigus , longs de 4-5 mm glabres , portant quelques glandes sur leurs bords .'"
      ]
     },
     "execution_count": 607,
     "metadata": {},
     "output_type": "execute_result"
    }
   ],
   "source": [
    "sent"
   ]
  },
  {
   "cell_type": "code",
   "execution_count": 608,
   "id": "867ecbfc",
   "metadata": {},
   "outputs": [
    {
     "data": {
      "text/plain": [
       "[('sépales', (0, 7))]"
      ]
     },
     "execution_count": 608,
     "metadata": {},
     "output_type": "execute_result"
    }
   ],
   "source": [
    "organe_(sent)"
   ]
  },
  {
   "cell_type": "code",
   "execution_count": 609,
   "id": "403e3681",
   "metadata": {},
   "outputs": [
    {
     "data": {
      "text/plain": [
       "[('glabres', (42, 49)), ('linéaires', (8, 17))]"
      ]
     },
     "execution_count": 609,
     "metadata": {},
     "output_type": "execute_result"
    }
   ],
   "source": [
    "descripteur(sent)"
   ]
  },
  {
   "cell_type": "markdown",
   "id": "3da57fd4",
   "metadata": {},
   "source": [
    "## ==============="
   ]
  },
  {
   "cell_type": "markdown",
   "id": "e10eb824-bdc3-4bda-a763-894cfcdb4bc1",
   "metadata": {},
   "source": [
    "# Tesseract OCR"
   ]
  },
  {
   "cell_type": "code",
   "execution_count": null,
   "id": "c2a08c52-cb42-427e-9049-ed071f36c106",
   "metadata": {},
   "outputs": [],
   "source": [
    "import os\n",
    "from PIL import Image\n",
    "from pdf2image import convert_from_path\n",
    "import pytesseract\n",
    "\n",
    "pytesseract.pytesseract.tesseract_cmd =r'C:\\Users\\NEW-USER\\AppData\\Local\\Tesseract-OCR\\tesseract.exe'\n",
    "poppler_path = r\"C:\\Users\\NEW-USER\\AppData\\Local\\poppler-22.04.0\\Library\\bin\""
   ]
  },
  {
   "cell_type": "code",
   "execution_count": null,
   "id": "8532e605-5612-4bc4-ae91-70ac0fcc0973",
   "metadata": {},
   "outputs": [],
   "source": [
    "from pdf2image import convert_from_path\n",
    "from pytesseract import image_to_string\n",
    "from PIL import Image"
   ]
  },
  {
   "cell_type": "code",
   "execution_count": null,
   "id": "b2dc70a5-4247-4ced-bf2a-ed433f2b7484",
   "metadata": {},
   "outputs": [],
   "source": [
    "def convert_pdf_img(pdf_file):\n",
    "    return convert_from_path(pdf_file, poppler_path = poppler_path)\n",
    "def convert_img_txt(file):\n",
    "    text = image_to_string(file)\n",
    "    return text\n",
    "\n",
    "def get_text_from_any_pdf(pdf_file):\n",
    "    images = convert_pdf_img(pdf_file)\n",
    "    final_text = \"\"\n",
    "    for pg,img in enumerate(images):\n",
    "        print(pg)\n",
    "        final_text += convert_img_txt(img)\n",
    "    return final_text"
   ]
  },
  {
   "cell_type": "code",
   "execution_count": null,
   "id": "5e23dfac-c7b1-4aca-abd5-1a5dd6ec2d0d",
   "metadata": {},
   "outputs": [],
   "source": [
    "path_pdf = 'data/Flore du Cameroun tome 10 1970 Ombellales.pdf'\n",
    "pdf1 = get_text_from_any_pdf(path_pdf)\n",
    "print(pdf1)"
   ]
  }
 ],
 "metadata": {
  "kernelspec": {
   "display_name": "Python 3 (ipykernel)",
   "language": "python",
   "name": "python3"
  },
  "language_info": {
   "codemirror_mode": {
    "name": "ipython",
    "version": 3
   },
   "file_extension": ".py",
   "mimetype": "text/x-python",
   "name": "python",
   "nbconvert_exporter": "python",
   "pygments_lexer": "ipython3",
   "version": "3.8.12"
  }
 },
 "nbformat": 4,
 "nbformat_minor": 5
}
