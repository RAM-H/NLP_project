{
 "cells": [
  {
   "cell_type": "code",
   "execution_count": 4,
   "metadata": {},
   "outputs": [
    {
     "name": "stdout",
     "output_type": "stream",
     "text": [
      "200\n"
     ]
    }
   ],
   "source": [
    "import requests\n",
    "\n",
    "response = requests.get(\n",
    "\turl=\"https://fr.wikipedia.org/wiki/Daniellia_oliveri\",\n",
    ")\n",
    "print(response.status_code)\n"
   ]
  },
  {
   "cell_type": "code",
   "execution_count": 5,
   "metadata": {},
   "outputs": [],
   "source": [
    "from bs4 import BeautifulSoup"
   ]
  },
  {
   "cell_type": "code",
   "execution_count": 8,
   "metadata": {},
   "outputs": [
    {
     "name": "stdout",
     "output_type": "stream",
     "text": [
      "None\n"
     ]
    }
   ],
   "source": [
    "soup = BeautifulSoup(response.content, 'html.parser')\n",
    "\n",
    "title = soup.find(id=\"mw-content-text\")\n"
   ]
  },
  {
   "cell_type": "code",
   "execution_count": 15,
   "metadata": {},
   "outputs": [
    {
     "data": {
      "text/plain": [
       "[<i>Daniellia oliveri</i>,\n",
       " <i>Daniellia oliveri</i>,\n",
       " <i>Paradaniellia oliveri</i>,\n",
       " <i><b>Daniellia oliveri</b></i>,\n",
       " <i><a href=\"/wiki/Fabaceae\" title=\"Fabaceae\">Fabaceae</a></i>,\n",
       " <i><a href=\"/wiki/Daniellia\" title=\"Daniellia\">Daniellia</a></i>,\n",
       " <i>The Plant List</i>,\n",
       " <i>Analyse des impacts écologiques et socioculturels de l'exploitation des produits de Daniellia Oliveri sur la viabilité de ses peuplements au Bénin</i>,\n",
       " <i><span class=\"lang-en\" lang=\"en\"><a href=\"/wiki/Catalogue_of_Life\" title=\"Catalogue of Life\">Catalogue of Life</a></span></i>,\n",
       " <i>Daniellia oliveri</i>,\n",
       " <i><a href=\"/wiki/Germplasm_Resources_Information_Network\" title=\"Germplasm Resources Information Network\">GRIN</a></i>,\n",
       " <i>Daniellia oliveri</i>,\n",
       " <i><a href=\"/wiki/Syst%C3%A8me_d%27information_taxonomique_int%C3%A9gr%C3%A9\" title=\"Système d'information taxonomique intégré\">ITIS</a></i>,\n",
       " <i>Daniellia oliveri</i>,\n",
       " <i><a href=\"/wiki/National_Center_for_Biotechnology_Information\" title=\"National Center for Biotechnology Information\">NCBI</a></i>,\n",
       " <i>Daniellia oliveri</i>,\n",
       " <i><a href=\"/wiki/The_Plant_List\" title=\"The Plant List\">The Plant List</a></i>,\n",
       " <i>Daniellia oliveri</i>,\n",
       " <i>Legume Database and Information Service</i>,\n",
       " <i>ILDIS</i>,\n",
       " <i><a href=\"/wiki/Tropicos\" title=\"Tropicos\">Tropicos</a></i>,\n",
       " <i>Daniellia oliveri</i>,\n",
       " <i>Fabaceae</i>]"
      ]
     },
     "execution_count": 15,
     "metadata": {},
     "output_type": "execute_result"
    }
   ],
   "source": [
    "title.find_all('i')"
   ]
  },
  {
   "cell_type": "code",
   "execution_count": 16,
   "metadata": {},
   "outputs": [],
   "source": [
    "import wikipedia"
   ]
  },
  {
   "cell_type": "code",
   "execution_count": 19,
   "metadata": {},
   "outputs": [
    {
     "name": "stdout",
     "output_type": "stream",
     "text": [
      "Daniellia oliveri is a species of tree in the family Fabaceae. It is native to tropical West and Central Africa and is commonly known as the African copaiba balsam tree, or the West African copal tree.\n",
      "\n",
      "\n",
      "== Description ==\n",
      "Daniellia oliveri is a medium-sized, deciduous tree growing to a height of 25 m (80 ft) or more.\n"
     ]
    }
   ],
   "source": [
    "print(wikipedia.summary(\"Daniellia oliveri\", sentences=3))"
   ]
  },
  {
   "cell_type": "code",
   "execution_count": null,
   "metadata": {},
   "outputs": [],
   "source": []
  }
 ],
 "metadata": {
  "kernelspec": {
   "display_name": "Python 3.10.4 64-bit",
   "language": "python",
   "name": "python3"
  },
  "language_info": {
   "codemirror_mode": {
    "name": "ipython",
    "version": 3
   },
   "file_extension": ".py",
   "mimetype": "text/x-python",
   "name": "python",
   "nbconvert_exporter": "python",
   "pygments_lexer": "ipython3",
   "version": "3.10.4"
  },
  "orig_nbformat": 4,
  "vscode": {
   "interpreter": {
    "hash": "95ce74b681a010f2ef9649b663049bdf3564be80654c40f17354ea7c48f5168f"
   }
  }
 },
 "nbformat": 4,
 "nbformat_minor": 2
}
