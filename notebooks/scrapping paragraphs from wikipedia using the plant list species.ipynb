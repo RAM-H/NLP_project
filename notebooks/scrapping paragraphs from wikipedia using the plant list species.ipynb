{
 "cells": [
  {
   "attachments": {},
   "cell_type": "markdown",
   "metadata": {},
   "source": [
    "Using thsi notebook we are going two new files 'scrapped_wikidata' and 'rescued_data' this files contain that species and their description from wikipedia using the species names scrapped from wikipedia as keywords"
   ]
  },
  {
   "cell_type": "code",
   "execution_count": 1,
   "metadata": {},
   "outputs": [],
   "source": [
    "from bs4 import BeautifulSoup"
   ]
  },
  {
   "cell_type": "code",
   "execution_count": 2,
   "metadata": {},
   "outputs": [],
   "source": [
    "import wikipedia"
   ]
  },
  {
   "cell_type": "code",
   "execution_count": 3,
   "metadata": {},
   "outputs": [
    {
     "name": "stdout",
     "output_type": "stream",
     "text": [
      "Pimpinella ledermannii H. Wolff est une espèce d'herbes de la famille des Apiaceae et du genre Pimpinella, présente en Afrique tropicale.\n",
      "\n",
      "\n",
      "== Étymologie ==\n",
      "Son épithète spécifique rend hommage au botaniste suisse Carl Ludwig Ledermann , qui collecta le premier spécimen sur les monts Bamboutos (Cameroun) en décembre 1907.\n",
      "\n",
      "\n",
      "== Liste des sous-espèces ==\n",
      "Selon Catalogue of Life                                   (19 janvier 2018) :\n",
      "\n",
      "sous-espèce Pimpinella ledermannii subsp. engleriana\n",
      "sous-espèce Pimpinella ledermannii subsp. ledermanniiSelon The Plant List            (19 janvier 2018) :\n",
      "\n",
      "sous-espèce Pimpinella ledermannii subsp.\n"
     ]
    }
   ],
   "source": [
    "wikipedia.set_lang(\"fr\")\n",
    "print(wikipedia.summary(\"Pimpinella Ledermannii\",sentences=5))"
   ]
  },
  {
   "cell_type": "code",
   "execution_count": null,
   "metadata": {},
   "outputs": [],
   "source": [
    "#read the species file \n",
    "f = open(\"../genereted data/species-THEPLANTLIST-not_scrapped.txt\", \"r\")\n",
    "species=f.readlines()\n",
    "species=[s.replace('\\n','') for s in species]\n",
    "species"
   ]
  },
  {
   "cell_type": "code",
   "execution_count": null,
   "metadata": {},
   "outputs": [],
   "source": [
    "f.close()"
   ]
  },
  {
   "cell_type": "code",
   "execution_count": 7,
   "metadata": {},
   "outputs": [
    {
     "data": {
      "text/plain": [
       "350639"
      ]
     },
     "execution_count": 7,
     "metadata": {},
     "output_type": "execute_result"
    }
   ],
   "source": [
    "len(species)"
   ]
  },
  {
   "cell_type": "code",
   "execution_count": 8,
   "metadata": {},
   "outputs": [],
   "source": [
    "import pandas as pd"
   ]
  },
  {
   "cell_type": "code",
   "execution_count": null,
   "metadata": {},
   "outputs": [],
   "source": [
    "#scrapping from wiki \n",
    "wikipedia.set_lang(\"fr\")\n",
    "sentences=dict()\n",
    "i=0\n",
    "for s in species:\n",
    "    try:\n",
    "        sentences[s]=wikipedia.summary(s)\n",
    "    except Exception as e:\n",
    "        print(e)\n",
    "        continue\n",
    "    i=i+1\n",
    "    if(i%200==0):\n",
    "        print(i)\n",
    "    if i%1000==0:\n",
    "        sdata=pd.DataFrame(list(sentences.items()))\n",
    "        sdata.rename(columns={0:\"espèce\",1:\"description\"},inplace=True)\n",
    "        sdata.to_csv('../genereted data/rescued_data.csv',index=False)\n"
   ]
  },
  {
   "attachments": {},
   "cell_type": "markdown",
   "metadata": {},
   "source": [
    "le code dans la partie suivante est l'ancien code du data que nous avons obtenu en utilisants les noms que nous avons extrait à partir des documents de flore \n"
   ]
  },
  {
   "cell_type": "code",
   "execution_count": 25,
   "metadata": {},
   "outputs": [],
   "source": [
    "#create a dataframe for all sentences\n",
    "import pandas as pd\n",
    "sdata=pd.DataFrame(list(sentences.items()))"
   ]
  },
  {
   "cell_type": "code",
   "execution_count": 26,
   "metadata": {},
   "outputs": [],
   "source": [
    "sdata.rename(columns={0:\"espèce\",1:\"description\"},inplace=True)"
   ]
  },
  {
   "cell_type": "code",
   "execution_count": 34,
   "metadata": {},
   "outputs": [],
   "source": [
    "sdata.to_csv('../genereted data/scrapped_wikidata.csv',index=False)"
   ]
  },
  {
   "cell_type": "code",
   "execution_count": null,
   "metadata": {},
   "outputs": [],
   "source": [
    "#s"
   ]
  }
 ],
 "metadata": {
  "kernelspec": {
   "display_name": "Python 3",
   "language": "python",
   "name": "python3"
  },
  "language_info": {
   "codemirror_mode": {
    "name": "ipython",
    "version": 3
   },
   "file_extension": ".py",
   "mimetype": "text/x-python",
   "name": "python",
   "nbconvert_exporter": "python",
   "pygments_lexer": "ipython3",
   "version": "3.10.0 (tags/v3.10.0:b494f59, Oct  4 2021, 19:00:18) [MSC v.1929 64 bit (AMD64)]"
  },
  "orig_nbformat": 4,
  "vscode": {
   "interpreter": {
    "hash": "56a72d4692ef0c1b231c46e32d3c17e6fd4335b61c614b1ca765a7c115f7edac"
   }
  }
 },
 "nbformat": 4,
 "nbformat_minor": 2
}
