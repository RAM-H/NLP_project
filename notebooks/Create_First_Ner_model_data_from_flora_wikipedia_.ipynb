{
 "cells": [
  {
   "attachments": {},
   "cell_type": "markdown",
   "metadata": {},
   "source": [
    "In this notebook we are going to implement a first named entity model for the scrapped data from wikipedia"
   ]
  },
  {
   "cell_type": "code",
   "execution_count": 1,
   "metadata": {},
   "outputs": [],
   "source": [
    "import pandas as pd"
   ]
  },
  {
   "cell_type": "code",
   "execution_count": 2,
   "metadata": {},
   "outputs": [],
   "source": [
    "data = pd.read_csv('scrapped_wikidata.csv')\n"
   ]
  },
  {
   "cell_type": "code",
   "execution_count": 3,
   "metadata": {},
   "outputs": [
    {
     "data": {
      "text/html": [
       "<div>\n",
       "<style scoped>\n",
       "    .dataframe tbody tr th:only-of-type {\n",
       "        vertical-align: middle;\n",
       "    }\n",
       "\n",
       "    .dataframe tbody tr th {\n",
       "        vertical-align: top;\n",
       "    }\n",
       "\n",
       "    .dataframe thead th {\n",
       "        text-align: right;\n",
       "    }\n",
       "</style>\n",
       "<table border=\"1\" class=\"dataframe\">\n",
       "  <thead>\n",
       "    <tr style=\"text-align: right;\">\n",
       "      <th></th>\n",
       "      <th>espèce</th>\n",
       "      <th>description</th>\n",
       "    </tr>\n",
       "  </thead>\n",
       "  <tbody>\n",
       "    <tr>\n",
       "      <th>0</th>\n",
       "      <td>Schefflera abyssinica</td>\n",
       "      <td>Le genre Schefflera constitue un groupe d’arbr...</td>\n",
       "    </tr>\n",
       "    <tr>\n",
       "      <th>1</th>\n",
       "      <td>Schefflera Mannii</td>\n",
       "      <td>Schefflera mannii (Hook.f.) Harms est une espè...</td>\n",
       "    </tr>\n",
       "    <tr>\n",
       "      <th>2</th>\n",
       "      <td>Tessmannia africana</td>\n",
       "      <td>Tessmannia est un genre de plantes dicotylédon...</td>\n",
       "    </tr>\n",
       "    <tr>\n",
       "      <th>3</th>\n",
       "      <td>Alternanthera sessilis</td>\n",
       "      <td>Alternanthera est un genre qui regroupe plus d...</td>\n",
       "    </tr>\n",
       "    <tr>\n",
       "      <th>4</th>\n",
       "      <td>Pimpinella Ledermannii</td>\n",
       "      <td>Pimpinella ledermannii H. Wolff est une espèce...</td>\n",
       "    </tr>\n",
       "    <tr>\n",
       "      <th>...</th>\n",
       "      <td>...</td>\n",
       "      <td>...</td>\n",
       "    </tr>\n",
       "    <tr>\n",
       "      <th>141</th>\n",
       "      <td>Monopetalanthus Hedinii</td>\n",
       "      <td>Aphanocalyx hedinii est une espèce d'arbres de...</td>\n",
       "    </tr>\n",
       "    <tr>\n",
       "      <th>142</th>\n",
       "      <td>Monopetalanthus microphyllus</td>\n",
       "      <td>Monopetalanthus heitzii est une espèce de plan...</td>\n",
       "    </tr>\n",
       "    <tr>\n",
       "      <th>143</th>\n",
       "      <td>Deinbollia dasybotrys</td>\n",
       "      <td>Deinbollia est un genre de plantes de la famil...</td>\n",
       "    </tr>\n",
       "    <tr>\n",
       "      <th>144</th>\n",
       "      <td>Hydrocotyle sibthorpioides</td>\n",
       "      <td>Les hydrocotyles (Hydrocotyle) forment un genr...</td>\n",
       "    </tr>\n",
       "    <tr>\n",
       "      <th>145</th>\n",
       "      <td>Gilbertiodendron mayombense</td>\n",
       "      <td>Gilbertiodendron est un genre de plantes appar...</td>\n",
       "    </tr>\n",
       "  </tbody>\n",
       "</table>\n",
       "<p>146 rows × 2 columns</p>\n",
       "</div>"
      ],
      "text/plain": [
       "                           espèce  \\\n",
       "0           Schefflera abyssinica   \n",
       "1               Schefflera Mannii   \n",
       "2             Tessmannia africana   \n",
       "3          Alternanthera sessilis   \n",
       "4          Pimpinella Ledermannii   \n",
       "..                            ...   \n",
       "141       Monopetalanthus Hedinii   \n",
       "142  Monopetalanthus microphyllus   \n",
       "143         Deinbollia dasybotrys   \n",
       "144    Hydrocotyle sibthorpioides   \n",
       "145   Gilbertiodendron mayombense   \n",
       "\n",
       "                                           description  \n",
       "0    Le genre Schefflera constitue un groupe d’arbr...  \n",
       "1    Schefflera mannii (Hook.f.) Harms est une espè...  \n",
       "2    Tessmannia est un genre de plantes dicotylédon...  \n",
       "3    Alternanthera est un genre qui regroupe plus d...  \n",
       "4    Pimpinella ledermannii H. Wolff est une espèce...  \n",
       "..                                                 ...  \n",
       "141  Aphanocalyx hedinii est une espèce d'arbres de...  \n",
       "142  Monopetalanthus heitzii est une espèce de plan...  \n",
       "143  Deinbollia est un genre de plantes de la famil...  \n",
       "144  Les hydrocotyles (Hydrocotyle) forment un genr...  \n",
       "145  Gilbertiodendron est un genre de plantes appar...  \n",
       "\n",
       "[146 rows x 2 columns]"
      ]
     },
     "execution_count": 3,
     "metadata": {},
     "output_type": "execute_result"
    }
   ],
   "source": [
    "data"
   ]
  },
  {
   "cell_type": "code",
   "execution_count": 29,
   "metadata": {},
   "outputs": [],
   "source": [
    "import re\n",
    "TRAIN_DATA=[]\n",
    "for idx,row in data.iterrows():\n",
    "    entities=[]\n",
    "    first_indexes=[m.start() for m in re.finditer(row['espèce'].lower(), row['description'].lower())]\n",
    "    for fr in first_indexes:\n",
    "        entities.append([fr,fr+len(row['espèce']),'espèce'])\n",
    "    if entities:\n",
    "        TRAIN_DATA.append([row['description'].lower(),{\"entities\":entities}])"
   ]
  },
  {
   "cell_type": "code",
   "execution_count": 30,
   "metadata": {},
   "outputs": [
    {
     "data": {
      "text/plain": [
       "41"
      ]
     },
     "execution_count": 30,
     "metadata": {},
     "output_type": "execute_result"
    }
   ],
   "source": [
    "len(TRAIN_DATA)"
   ]
  },
  {
   "cell_type": "code",
   "execution_count": 16,
   "metadata": {},
   "outputs": [],
   "source": [
    "#trying to copy and run some code\n",
    "import srsly\n",
    "import typer\n",
    "import warnings\n",
    "from pathlib import Path\n",
    "\n",
    "import spacy\n",
    "from spacy.tokens import DocBin\n",
    "\n",
    "def convert(lang: str, TRAIN_DATA, output_path: Path):\n",
    "    nlp = spacy.blank(lang)\n",
    "    db = DocBin()\n",
    "    for text, annot in TRAIN_DATA:\n",
    "        doc = nlp.make_doc(text)\n",
    "        ents = []\n",
    "        for start, end, label in annot[\"entities\"]:\n",
    "            span = doc.char_span(start, end, label=label)\n",
    "            if span is None:\n",
    "                msg = f\"Skipping entity [{start}, {end}, {label}] in the following text because the character span '{doc.text[start:end]}' does not align with token boundaries:\\n\\n{repr(text)}\\n\"\n",
    "                warnings.warn(msg)\n",
    "            else:\n",
    "                ents.append(span)\n",
    "        doc.ents = ents\n",
    "        db.add(doc)\n",
    "    db.to_disk(output_path)"
   ]
  },
  {
   "cell_type": "code",
   "execution_count": 31,
   "metadata": {},
   "outputs": [],
   "source": [
    "convert(\"fr\", TRAIN_DATA, \"ner_data/train.spacy\")\n",
    "convert(\"fr\", TRAIN_DATA, \"ner_data/valid.spacy\")"
   ]
  },
  {
   "cell_type": "code",
   "execution_count": 32,
   "metadata": {},
   "outputs": [
    {
     "name": "stdout",
     "output_type": "stream",
     "text": [
      "✔ Auto-filled config with all values\n",
      "✔ Saved config\n",
      "ner_data\\config.cfg\n",
      "You can now add your data and train your pipeline:\n",
      "python -m spacy train config.cfg --paths.train ./train.spacy --paths.dev ./dev.spacy\n"
     ]
    },
    {
     "name": "stderr",
     "output_type": "stream",
     "text": [
      "2022-11-29 12:42:03.711697: W tensorflow/stream_executor/platform/default/dso_loader.cc:64] Could not load dynamic library 'cublas64_11.dll'; dlerror: cublas64_11.dll not found\n",
      "2022-11-29 12:42:03.713229: W tensorflow/stream_executor/platform/default/dso_loader.cc:64] Could not load dynamic library 'cublasLt64_11.dll'; dlerror: cublasLt64_11.dll not found\n",
      "2022-11-29 12:42:03.714583: W tensorflow/stream_executor/platform/default/dso_loader.cc:64] Could not load dynamic library 'cufft64_10.dll'; dlerror: cufft64_10.dll not found\n",
      "2022-11-29 12:42:03.715845: W tensorflow/stream_executor/platform/default/dso_loader.cc:64] Could not load dynamic library 'curand64_10.dll'; dlerror: curand64_10.dll not found\n",
      "2022-11-29 12:42:03.717291: W tensorflow/stream_executor/platform/default/dso_loader.cc:64] Could not load dynamic library 'cusolver64_11.dll'; dlerror: cusolver64_11.dll not found\n",
      "2022-11-29 12:42:03.718809: W tensorflow/stream_executor/platform/default/dso_loader.cc:64] Could not load dynamic library 'cusparse64_11.dll'; dlerror: cusparse64_11.dll not found\n",
      "2022-11-29 12:42:03.720080: W tensorflow/stream_executor/platform/default/dso_loader.cc:64] Could not load dynamic library 'cudnn64_8.dll'; dlerror: cudnn64_8.dll not found\n",
      "2022-11-29 12:42:03.720595: W tensorflow/core/common_runtime/gpu/gpu_device.cc:1850] Cannot dlopen some GPU libraries. Please make sure the missing libraries mentioned above are installed properly if you would like to use GPU. Follow the guide at https://www.tensorflow.org/install/gpu for how to download and setup the required libraries for your platform.\n",
      "Skipping registering GPU devices...\n"
     ]
    }
   ],
   "source": [
    "!python -m spacy init fill-config ner_data/base_config.cfg ner_data/config.cfg"
   ]
  },
  {
   "cell_type": "code",
   "execution_count": 33,
   "metadata": {},
   "outputs": [
    {
     "name": "stdout",
     "output_type": "stream",
     "text": [
      "ℹ Saving to output directory: models\\output\n",
      "ℹ Using CPU\n",
      "\u001b[1m\n",
      "=========================== Initializing pipeline ===========================\u001b[0m\n",
      "✔ Initialized pipeline\n",
      "\u001b[1m\n",
      "============================= Training pipeline =============================\u001b[0m\n",
      "ℹ Pipeline: ['tok2vec', 'ner']\n",
      "ℹ Initial learn rate: 0.001\n",
      "E    #       LOSS TOK2VEC  LOSS NER  ENTS_F  ENTS_P  ENTS_R  SCORE \n",
      "---  ------  ------------  --------  ------  ------  ------  ------\n",
      "  0       0          0.00     30.67    4.43    2.30   59.52    0.04\n",
      "  9     200         11.51    989.80  100.00  100.00  100.00    1.00\n",
      " 20     400          4.39      8.90  100.00  100.00  100.00    1.00\n",
      " 32     600          0.00      0.00  100.00  100.00  100.00    1.00\n",
      " 47     800          0.00      0.00  100.00  100.00  100.00    1.00\n",
      " 64    1000          0.00      0.00  100.00  100.00  100.00    1.00\n",
      " 84    1200          0.00      0.00  100.00  100.00  100.00    1.00\n",
      "108    1400          0.00      0.00  100.00  100.00  100.00    1.00\n",
      "135    1600          0.00      0.00  100.00  100.00  100.00    1.00\n",
      "168    1800          0.00      0.00  100.00  100.00  100.00    1.00\n",
      "✔ Saved pipeline to output directory\n",
      "models\\output\\model-last\n"
     ]
    },
    {
     "name": "stderr",
     "output_type": "stream",
     "text": [
      "2022-11-29 12:42:27.287421: W tensorflow/stream_executor/platform/default/dso_loader.cc:64] Could not load dynamic library 'cublas64_11.dll'; dlerror: cublas64_11.dll not found\n",
      "2022-11-29 12:42:27.289007: W tensorflow/stream_executor/platform/default/dso_loader.cc:64] Could not load dynamic library 'cublasLt64_11.dll'; dlerror: cublasLt64_11.dll not found\n",
      "2022-11-29 12:42:27.290513: W tensorflow/stream_executor/platform/default/dso_loader.cc:64] Could not load dynamic library 'cufft64_10.dll'; dlerror: cufft64_10.dll not found\n",
      "2022-11-29 12:42:27.291958: W tensorflow/stream_executor/platform/default/dso_loader.cc:64] Could not load dynamic library 'curand64_10.dll'; dlerror: curand64_10.dll not found\n",
      "2022-11-29 12:42:27.293385: W tensorflow/stream_executor/platform/default/dso_loader.cc:64] Could not load dynamic library 'cusolver64_11.dll'; dlerror: cusolver64_11.dll not found\n",
      "2022-11-29 12:42:27.294787: W tensorflow/stream_executor/platform/default/dso_loader.cc:64] Could not load dynamic library 'cusparse64_11.dll'; dlerror: cusparse64_11.dll not found\n",
      "2022-11-29 12:42:27.296422: W tensorflow/stream_executor/platform/default/dso_loader.cc:64] Could not load dynamic library 'cudnn64_8.dll'; dlerror: cudnn64_8.dll not found\n",
      "2022-11-29 12:42:27.296985: W tensorflow/core/common_runtime/gpu/gpu_device.cc:1850] Cannot dlopen some GPU libraries. Please make sure the missing libraries mentioned above are installed properly if you would like to use GPU. Follow the guide at https://www.tensorflow.org/install/gpu for how to download and setup the required libraries for your platform.\n",
      "Skipping registering GPU devices...\n",
      "[2022-11-29 12:42:29,793] [INFO] Set up nlp object from config\n",
      "[2022-11-29 12:42:29,824] [INFO] Pipeline: ['tok2vec', 'ner']\n",
      "[2022-11-29 12:42:29,831] [INFO] Created vocabulary\n",
      "[2022-11-29 12:42:29,834] [INFO] Finished initializing nlp object\n",
      "[2022-11-29 12:42:30,219] [INFO] Initialized pipeline components: ['tok2vec', 'ner']\n"
     ]
    }
   ],
   "source": [
    "!python -m spacy train ner_data/config.cfg --paths.train ner_data/train.spacy --paths.dev ner_data/valid.spacy --output models/output"
   ]
  },
  {
   "cell_type": "code",
   "execution_count": 37,
   "metadata": {},
   "outputs": [],
   "source": [
    "def f_remove_accents(old):\n",
    "    \"\"\"\n",
    "    Removes common accent characters, lower form.\n",
    "    Uses: regex.\n",
    "    \"\"\"\n",
    "    new = old.lower()\n",
    "    new = re.sub(r'[àáâãäå]', 'a', new)\n",
    "    new = re.sub(r'[èéêë]', 'e', new)\n",
    "    new = re.sub(r'[ìíîï]', 'i', new)\n",
    "    new = re.sub(r'[òóôõö]', 'o', new)\n",
    "    new = re.sub(r'[ùúûü]', 'u', new)\n",
    "    return new"
   ]
  },
  {
   "cell_type": "code",
   "execution_count": 46,
   "metadata": {},
   "outputs": [
    {
     "name": "stdout",
     "output_type": "stream",
     "text": [
      "manilkara lacera espèce\n"
     ]
    }
   ],
   "source": [
    "trained_nlp = spacy.load(\"models/output/model-best\")\n",
    "text = \"\"\"Manilkara  lacera est une  espèce  typique  du  bord  de la \n",
    "mer et plus  précisément  du  front  de mer,  sur  les plages.  Il \n",
    "y constitue  parfois  des  fourrés  denses,  impénétrables,  taillés  en \n",
    "biseau  par  les embruns.  A l'abri  de ces  fourrés,  des  arbustes\"\"\"\n",
    "text=text.replace(\"  \",\" \")\n",
    "doc = trained_nlp(f_remove_accents(text))\n",
    "\n",
    "for ent in doc.ents:\n",
    "    print (ent.text, ent.label_)"
   ]
  }
 ],
 "metadata": {
  "kernelspec": {
   "display_name": "Python 3",
   "language": "python",
   "name": "python3"
  },
  "language_info": {
   "codemirror_mode": {
    "name": "ipython",
    "version": 3
   },
   "file_extension": ".py",
   "mimetype": "text/x-python",
   "name": "python",
   "nbconvert_exporter": "python",
   "pygments_lexer": "ipython3",
   "version": "3.10.0 (tags/v3.10.0:b494f59, Oct  4 2021, 19:00:18) [MSC v.1929 64 bit (AMD64)]"
  },
  "orig_nbformat": 4,
  "vscode": {
   "interpreter": {
    "hash": "56a72d4692ef0c1b231c46e32d3c17e6fd4335b61c614b1ca765a7c115f7edac"
   }
  }
 },
 "nbformat": 4,
 "nbformat_minor": 2
}
