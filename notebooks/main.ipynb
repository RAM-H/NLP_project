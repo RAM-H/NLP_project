{
 "cells": [
  {
   "cell_type": "code",
   "execution_count": 1,
   "id": "5483104e-f25e-48a1-a88d-789582664090",
   "metadata": {},
   "outputs": [],
   "source": [
    "import pandas as ps\n",
    "import numpy as np \n",
    "import os\n",
    "import re"
   ]
  },
  {
   "cell_type": "code",
   "execution_count": 2,
   "id": "fce467aa-5b27-46dc-9f52-8d55445cda6f",
   "metadata": {},
   "outputs": [
    {
     "data": {
      "text/plain": [
       "['Flore du Cameroun tome 10 1970 Ombellales',\n",
       " 'Flore du Cameroun tome 10 1970 Ombellales.pdf',\n",
       " 'Flore du Cameroun tome 12 1972 Loganiaceae',\n",
       " 'Flore du Cameroun tome 12 1972 Loganiaceae.pdf',\n",
       " 'Flore du Cameroun tome 16 1973 Sapindaceae',\n",
       " 'Flore du Cameroun tome 16 1973 Sapindaceae.pdf',\n",
       " 'Flore du Cameroun tome 17 1974 Amaranthaceae',\n",
       " 'Flore du Cameroun tome 17 1974 Amaranthaceae.pdf',\n",
       " 'Flore du Cameroun tome 2 1964 Sapotacees',\n",
       " 'Flore du Cameroun tome 2 1964 Sapotacees.pdf',\n",
       " 'Flore du Cameroun tome 6 1967 Cucurbitaceae',\n",
       " 'Flore du Cameroun tome 6 1967 Cucurbitaceae.pdf',\n",
       " 'Flore du Cameroun tome 9 1970 Caesalpinioidae',\n",
       " 'Flore du Cameroun tome 9 1970 Caesalpinioidae.pdf']"
      ]
     },
     "execution_count": 2,
     "metadata": {},
     "output_type": "execute_result"
    }
   ],
   "source": [
    "os.listdir(\"data\")"
   ]
  },
  {
   "cell_type": "code",
   "execution_count": 3,
   "id": "461a607d-cb3b-40c4-b962-3eaf8f487823",
   "metadata": {},
   "outputs": [],
   "source": [
    "folder = []\n",
    "for item in os.listdir('data'):\n",
    "    if(len(item.split('.')) == 1):\n",
    "        folder.append(item)"
   ]
  },
  {
   "cell_type": "code",
   "execution_count": 4,
   "id": "a8aa7ff8-6509-4472-9fe1-e820116cf77f",
   "metadata": {},
   "outputs": [
    {
     "data": {
      "text/plain": [
       "['Flore du Cameroun tome 10 1970 Ombellales',\n",
       " 'Flore du Cameroun tome 12 1972 Loganiaceae',\n",
       " 'Flore du Cameroun tome 16 1973 Sapindaceae',\n",
       " 'Flore du Cameroun tome 17 1974 Amaranthaceae',\n",
       " 'Flore du Cameroun tome 2 1964 Sapotacees',\n",
       " 'Flore du Cameroun tome 6 1967 Cucurbitaceae',\n",
       " 'Flore du Cameroun tome 9 1970 Caesalpinioidae']"
      ]
     },
     "execution_count": 4,
     "metadata": {},
     "output_type": "execute_result"
    }
   ],
   "source": [
    "folder"
   ]
  },
  {
   "cell_type": "code",
   "execution_count": 5,
   "id": "5d371ff5-40b0-4879-b476-79543613fdf9",
   "metadata": {},
   "outputs": [
    {
     "data": {
      "text/plain": [
       "'cle des especes camerounaises et gabonaises'"
      ]
     },
     "execution_count": 5,
     "metadata": {},
     "output_type": "execute_result"
    }
   ],
   "source": [
    "def f_remove_accents(old):\n",
    "    \"\"\"\n",
    "    Removes common accent characters, lower form.\n",
    "    Uses: regex.\n",
    "    \"\"\"\n",
    "    new = old.lower()\n",
    "    new = re.sub(r'[àáâãäå]', 'a', new)\n",
    "    new = re.sub(r'[èéêë]', 'e', new)\n",
    "    new = re.sub(r'[ìíîï]', 'i', new)\n",
    "    new = re.sub(r'[òóôõö]', 'o', new)\n",
    "    new = re.sub(r'[ùúûü]', 'u', new)\n",
    "    return new\n",
    "f_remove_accents(\"CLÉ DES ESPÈCES CAMEROUNAISES ET GABONAISES\")\n"
   ]
  },
  {
   "cell_type": "code",
   "execution_count": 6,
   "id": "25d75e29-aa8e-45f9-894d-a3e9c727941b",
   "metadata": {},
   "outputs": [
    {
     "name": "stdout",
     "output_type": "stream",
     "text": [
      "=============================================================\n",
      "data/Flore du Cameroun tome 12 1972 Loganiaceae\n",
      "cle des especes camerounaises et gabonaises\n",
      "cle des especes camerounaises et gabonaises\n",
      "cle des especes camerounaises et gabonaises\n",
      "cle des especes camerounaises et gabonaises\n"
     ]
    }
   ],
   "source": [
    "famille =[]\n",
    "famille_ = []\n",
    "tailles = []\n",
    "\n",
    "#for f in folder:\n",
    "path = 'data/' + 'Flore du Cameroun tome 12 1972 Loganiaceae'\n",
    "print(\"=============================================================\")\n",
    "print(path)\n",
    "for i in range(len(os.listdir(path))):\n",
    "    with open(path+'/'+ str(i+1) +'.txt', 'r') as fp:\n",
    "        lines = fp.readlines()\n",
    "        #print(\"=================\")\n",
    "        for j in range(len(lines)):\n",
    "            l = lines[j].strip()\n",
    "            l = l.replace('  ',' ')\n",
    "            #print(l)\n",
    "            l = f_remove_accents(l)\n",
    "            x = re.search(\"^cle.*espece\", l)\n",
    "            if(x):\n",
    "                print(l)"
   ]
  },
  {
   "cell_type": "code",
   "execution_count": 7,
   "id": "7727611d-7d7c-4666-bd1b-3accac316a1b",
   "metadata": {},
   "outputs": [
    {
     "name": "stdout",
     "output_type": "stream",
     "text": [
      "=============================================================\n",
      "data/Flore du Cameroun tome 9 1970 Caesalpinioidae\n",
      "CLEF DES ESPÈCES DE CÉSALPINIOÏDÉES \n",
      "\n",
      "CLEF DES ESPÈCES \n",
      "\n",
      "CLEF DES ESPÈCES \n",
      "\n",
      "CLEF DES ESPÈCES \n",
      "\n",
      "CLEF DES ESPÈCES \n",
      "\n",
      "CLEF DES ESPÈCES \n",
      "\n",
      "CLEF DES GROUPES ET ESPÈCES \n",
      "\n",
      "CLEF DES ESPÈCES \n",
      "\n",
      "CLEF DES ESPÈCES \n",
      "\n",
      "CLEF DES ESPÈCES \n",
      "\n",
      "CLEF DES ESPÈCES \n",
      "\n",
      "CLEFS DES ESPÈCES \n",
      "\n",
      "CLEF DES ESPÈCES \n",
      "\n",
      "CLEF DES ESPÈCES \n",
      "\n",
      "CLEF DES ESPÈCES \n",
      "\n",
      "CLEF DES ESPÈCES \n",
      "\n",
      "CLEF DES ESPÈCES \n",
      "\n",
      "CLEF DÈS ESPÈCES \n",
      "\n",
      "CLEF DES ESPÈCES \n",
      "\n",
      "CLEF DES ESPÈCES \n",
      "\n",
      "CLEF DES ESPÈCES \n",
      "\n",
      "CLEF DES ESPÈCES \n",
      "\n",
      "CLEF DES ESPÈCES \n",
      "\n",
      "CLEF DES ESPÈCES \n",
      "\n",
      "CLEF DES ESPÈCES \n",
      "\n",
      "CLEF DES ESPÈCES \n",
      "\n",
      "CLEF DES ESPÈCES \n",
      "\n",
      "CLEF DES ESPÈCES \n",
      "\n",
      "CLEF DES ESPÈCES \n",
      "\n",
      "CLEF DES ESPÈCES \n",
      "\n",
      "CLEF DES ESPÈCES D'APBÈS LES FEUILLES \n",
      "\n",
      "CLEF DES ESPÈCES \n",
      "\n",
      "CLEF DES ESPÈCES \n",
      "\n",
      "CLEF DES ESPÈCES \n",
      "\n"
     ]
    }
   ],
   "source": [
    "path = 'data/' + 'Flore du Cameroun tome 9 1970 Caesalpinioidae'\n",
    "print(\"=============================================================\")\n",
    "print(path)\n",
    "for i in range(len(os.listdir(path))):\n",
    "    with open(path+'/'+ str(i+1) +'.txt', 'r') as fp:\n",
    "        lines = fp.readlines()\n",
    "        #print(\"=================\")\n",
    "        for j in range(len(lines)):\n",
    "            l = lines[j].strip()\n",
    "            l = l.replace('  ',' ')\n",
    "            #print(l)\n",
    "            l = f_remove_accents(l)\n",
    "            x = re.search(\"^cle.*espece\", l)\n",
    "            if(x):\n",
    "                print(lines[j])"
   ]
  },
  {
   "cell_type": "code",
   "execution_count": 8,
   "id": "229f0e2a-4c60-487a-b3cf-ee73772d04d3",
   "metadata": {},
   "outputs": [
    {
     "name": "stdout",
     "output_type": "stream",
     "text": [
      "=============================================================\n",
      "data/Flore du Cameroun tome 2 1964 Sapotacees\n",
      "CLEF  DES  ESPÈCES \n",
      "\n",
      "CLEF  DES  ESPÈCES \n",
      "\n",
      "CLEF  DES  ESPÈCES \n",
      "\n",
      "CLEF  DES  ESPÈCES  (i) \n",
      "\n",
      "CLEF  DES  ESPÈCES \n",
      "\n"
     ]
    }
   ],
   "source": [
    "path = 'data/' + 'Flore du Cameroun tome 2 1964 Sapotacees'\n",
    "print(\"=============================================================\")\n",
    "print(path)\n",
    "for i in range(len(os.listdir(path))):\n",
    "    with open(path+'/'+ str(i+1) +'.txt', 'r') as fp:\n",
    "        lines = fp.readlines()\n",
    "        #print(\"=================\")\n",
    "        for j in range(len(lines)):\n",
    "            l = lines[j].strip()\n",
    "            l = l.replace('  ',' ')\n",
    "            #print(l)\n",
    "            l = f_remove_accents(l)\n",
    "            x = re.search(\"^cle.*espece\", l)\n",
    "            if(x):\n",
    "                print(lines[j])"
   ]
  },
  {
   "cell_type": "code",
   "execution_count": 9,
   "id": "20bb85a4-3e8f-4480-b855-3bfa9d3b857f",
   "metadata": {},
   "outputs": [
    {
     "data": {
      "text/plain": [
       "'espèces'"
      ]
     },
     "execution_count": 9,
     "metadata": {},
     "output_type": "execute_result"
    }
   ],
   "source": [
    "\"ESPÈCES\".lower()"
   ]
  },
  {
   "cell_type": "code",
   "execution_count": 10,
   "id": "ecd822c7-5801-441b-a126-a117df23992d",
   "metadata": {},
   "outputs": [
    {
     "name": "stdout",
     "output_type": "stream",
     "text": [
      "=============================================================\n",
      "data/Flore du Cameroun tome 12 1972 Loganiaceae\n",
      "9\n",
      "cle des especes camerounaises et gabonaises\n",
      "30\n",
      "cle des especes camerounaises et gabonaises\n",
      "49\n",
      "cle des especes camerounaises et gabonaises\n",
      "54\n",
      "cle des especes camerounaises et gabonaises\n"
     ]
    }
   ],
   "source": [
    "famille =[]\n",
    "famille_ = []\n",
    "tailles = []\n",
    "\n",
    "#for f in folder:\n",
    "path = 'data/' + 'Flore du Cameroun tome 12 1972 Loganiaceae'\n",
    "print(\"=============================================================\")\n",
    "print(path)\n",
    "for i in range(len(os.listdir(path))):\n",
    "    with open(path+'/'+ str(i+1) +'.txt', 'r') as fp:\n",
    "        lines = fp.readlines()\n",
    "        #print(\"=================\")\n",
    "        for j in range(len(lines)):\n",
    "            l = lines[j].strip()\n",
    "            l = l.replace('  ',' ')\n",
    "            #print(l)\n",
    "            l = f_remove_accents(l)\n",
    "            x = re.search(\"^cle.*espece\", l)\n",
    "            if(x):\n",
    "                print(i+1)\n",
    "                print(l)"
   ]
  },
  {
   "cell_type": "code",
   "execution_count": 11,
   "id": "aca7e94c",
   "metadata": {},
   "outputs": [],
   "source": [
    "path = 'data/' + 'Flore du Cameroun tome 17 1974 Amaranthaceae'"
   ]
  },
  {
   "cell_type": "code",
   "execution_count": 12,
   "id": "6be60c42",
   "metadata": {
    "scrolled": false
   },
   "outputs": [
    {
     "name": "stdout",
     "output_type": "stream",
     "text": [
      "=============================================================\n",
      "data/Flore du Cameroun tome 17 1974 Amaranthaceae\n",
      "8\n",
      "cle des especes\n",
      "18\n",
      "cle des especes\n",
      "27\n",
      "cle des especes\n",
      "34\n",
      "cle des especes\n",
      "39\n",
      "cle des especes\n",
      "45\n",
      "cle des especes\n",
      "55\n",
      "cle des especes\n",
      "61\n",
      "cle des especes\n"
     ]
    }
   ],
   "source": [
    "print(\"=============================================================\")\n",
    "print(path)\n",
    "for i in range(len(os.listdir(path))):\n",
    "    with open(path+'/'+ str(i+1) +'.txt', 'r') as fp:\n",
    "        lines = fp.readlines()\n",
    "        #print(\"=================\")\n",
    "        for j in range(len(lines)):\n",
    "            l = lines[j].strip()\n",
    "            l = l.replace('  ',' ')\n",
    "            #print(l)\n",
    "            l = f_remove_accents(l)\n",
    "            x = re.search(\"cle.?\\sdes\\sespece\", l)\n",
    "            if(x):\n",
    "                print(i+1)\n",
    "                print(l)"
   ]
  },
  {
   "cell_type": "markdown",
   "id": "07d92b4a",
   "metadata": {},
   "source": [
    "# ============================="
   ]
  },
  {
   "cell_type": "markdown",
   "id": "d5c05e41",
   "metadata": {},
   "source": [
    "## Extract species names"
   ]
  },
  {
   "cell_type": "code",
   "execution_count": 14,
   "id": "f93c1141",
   "metadata": {},
   "outputs": [],
   "source": [
    "def especes_pages(path):\n",
    "    pages = []\n",
    "    for i in range(len(os.listdir(path))):\n",
    "        with open(path+'/'+ str(i+1) +'.txt', 'r') as fp:\n",
    "            lines = fp.readlines()\n",
    "            #print(\"=================\")\n",
    "            for j in range(len(lines)):\n",
    "                l = lines[j].strip()\n",
    "                l = l.replace('  ',' ')\n",
    "                l = f_remove_accents(l)\n",
    "                x = re.search(\"cle.?\\sdes\\sespece\", l)\n",
    "                if(x):\n",
    "                    pages.append(i+1)\n",
    "                    pages.append(i+2)\n",
    "                    pages.append(i+3)\n",
    "    return pages"
   ]
  },
  {
   "cell_type": "code",
   "execution_count": 15,
   "id": "3e9907ed",
   "metadata": {},
   "outputs": [],
   "source": [
    "def get_especes(pages):\n",
    "    especes = []\n",
    "    for p in pages:\n",
    "        with open(path+'/'+ str(p) +'.txt', 'r') as fp:\n",
    "            lines = fp.readlines()\n",
    "            for j in range(len(lines)):\n",
    "                l = lines[j].strip()\n",
    "                l = l.replace('  ',' ')\n",
    "                l = f_remove_accents(l)\n",
    "                x = re.findall(\"\\s\\w\\.\\s\\w+$\", l)\n",
    "                x = re.findall(\"[A-Za-z0-9]\\.\\s\\w\\.\\s\\w+\\.?$\", l)\n",
    "                if(x):\n",
    "                    especes.append(x)\n",
    "    especes = np.array(especes).reshape(-1)\n",
    "    esp = [esp.strip().split(' ')[2][:-1] for esp in especes]\n",
    "    initials = [esp.strip().split(' ')[1][:-1].upper() for esp in especes]\n",
    "    return esp, initials\n",
    "\n",
    "def preprocess(line):\n",
    "    l = line.strip()\n",
    "    l = l.replace('  ',' ')\n",
    "    #l = f_remove_accents(l)\n",
    "    return l"
   ]
  },
  {
   "cell_type": "markdown",
   "id": "7308e691",
   "metadata": {},
   "source": [
    "## get species full name"
   ]
  },
  {
   "cell_type": "code",
   "execution_count": 17,
   "id": "7663bcb1",
   "metadata": {},
   "outputs": [],
   "source": [
    "def get_especes_names(especes, initials, path):\n",
    "    esp_names = []\n",
    "    for i in range(len(os.listdir(path))):\n",
    "        with open(path+'/'+ str(i+1) +'.txt', 'r') as fp:\n",
    "            lines = fp.readlines()\n",
    "            for j in range(len(lines)):\n",
    "                l = preprocess(lines[j])\n",
    "                for i, esp in enumerate(especes):\n",
    "                    contains = l.find(esp.capitalize()) != -1 or l.find(esp) != -1 \n",
    "                    if contains:\n",
    "                        exp = \"^[1-9]\\.\\s{}[a-z]+.*\".format(initials[i])\n",
    "                        x = re.findall(exp, l)\n",
    "                        if(x):\n",
    "                            full_name = x[0].strip()[3:]\n",
    "                            full_name = full_name.split(' ')[0]+' '+full_name.split(' ')[1]\n",
    "                            esp_names.append(full_name)\n",
    "    return esp_names"
   ]
  },
  {
   "cell_type": "markdown",
   "id": "c3e691ff",
   "metadata": {},
   "source": [
    "## Execute"
   ]
  },
  {
   "cell_type": "code",
   "execution_count": 18,
   "id": "60acac16",
   "metadata": {},
   "outputs": [
    {
     "name": "stdout",
     "output_type": "stream",
     "text": [
      "data/Flore du Cameroun tome 10 1970 Ombellales\n",
      "======================\n",
      "Species number : 15\n",
      "Species title number : 14\n",
      "data/Flore du Cameroun tome 12 1972 Loganiaceae\n",
      "======================\n",
      "Species number : 63\n",
      "Species title number : 43\n",
      "data/Flore du Cameroun tome 16 1973 Sapindaceae\n",
      "======================\n",
      "Species number : 61\n",
      "Species title number : 41\n",
      "data/Flore du Cameroun tome 17 1974 Amaranthaceae\n",
      "======================\n",
      "Species number : 21\n",
      "Species title number : 17\n",
      "data/Flore du Cameroun tome 2 1964 Sapotacees\n",
      "======================\n",
      "Species number : 33\n",
      "Species title number : 33\n",
      "data/Flore du Cameroun tome 6 1967 Cucurbitaceae\n",
      "======================\n",
      "Species number : 37\n",
      "Species title number : 30\n",
      "data/Flore du Cameroun tome 9 1970 Caesalpinioidae\n",
      "======================\n",
      "Species number : 90\n",
      "Species title number : 66\n"
     ]
    }
   ],
   "source": [
    "paths = ['data/'+ fold for fold in folder]\n",
    "names = []\n",
    "for path in paths:\n",
    "    print(path)\n",
    "    print(\"======================\")\n",
    "    pages = especes_pages(path)\n",
    "    especes, initials = get_especes(pages)\n",
    "    print(\"Species number : \"+ str(len(especes)))\n",
    "    all_species = get_especes_names(especes,initials, path)\n",
    "    names += all_species\n",
    "    print(\"Species title number : \"+ str(len(all_species)))"
   ]
  },
  {
   "cell_type": "code",
   "execution_count": 30,
   "id": "3b05b9dc",
   "metadata": {},
   "outputs": [
    {
     "data": {
      "text/plain": [
       "208"
      ]
     },
     "execution_count": 30,
     "metadata": {},
     "output_type": "execute_result"
    }
   ],
   "source": [
    "len(set(names))"
   ]
  },
  {
   "cell_type": "code",
   "execution_count": 31,
   "id": "ddefabd5",
   "metadata": {
    "scrolled": true
   },
   "outputs": [],
   "source": [
    "species=set(names)"
   ]
  },
  {
   "cell_type": "code",
   "execution_count": 32,
   "id": "f4b7403a",
   "metadata": {},
   "outputs": [],
   "source": [
    "with open('species-new.txt', 'w') as f:\n",
    "    for es in species:\n",
    "        f.write(es)\n",
    "        f.write('\\n')"
   ]
  },
  {
   "cell_type": "code",
   "execution_count": 29,
   "id": "857887aa",
   "metadata": {},
   "outputs": [
    {
     "data": {
      "text/plain": [
       "244"
      ]
     },
     "execution_count": 29,
     "metadata": {},
     "output_type": "execute_result"
    }
   ],
   "source": [
    "len(species)"
   ]
  },
  {
   "cell_type": "markdown",
   "id": "3f711e01-19e4-4e0c-8cdc-d63c24f007ac",
   "metadata": {},
   "source": [
    "# =================================\n",
    "# Find organes"
   ]
  },
  {
   "cell_type": "code",
   "execution_count": 185,
   "id": "cc3c79fb",
   "metadata": {},
   "outputs": [],
   "source": [
    "from bs4 import BeautifulSoup as bs\n",
    "import requests"
   ]
  },
  {
   "cell_type": "code",
   "execution_count": 186,
   "id": "f27d127e",
   "metadata": {},
   "outputs": [],
   "source": [
    "url=\"https://fr.wikipedia.org/wiki/Glossaire_de_botanique\"\n",
    "response = requests.get(url)"
   ]
  },
  {
   "cell_type": "code",
   "execution_count": 187,
   "id": "f3fd1b35",
   "metadata": {},
   "outputs": [],
   "source": [
    "html = response.content"
   ]
  },
  {
   "cell_type": "code",
   "execution_count": 189,
   "id": "b144b7c5",
   "metadata": {},
   "outputs": [],
   "source": [
    "soup = bs(html, 'lxml')"
   ]
  },
  {
   "cell_type": "code",
   "execution_count": 191,
   "id": "f41949c6",
   "metadata": {},
   "outputs": [
    {
     "data": {
      "text/plain": [
       "<title>Glossaire de botanique — Wikipédia</title>"
      ]
     },
     "execution_count": 191,
     "metadata": {},
     "output_type": "execute_result"
    }
   ],
   "source": [
    "soup.title"
   ]
  },
  {
   "cell_type": "code",
   "execution_count": 233,
   "id": "fb774666",
   "metadata": {},
   "outputs": [],
   "source": [
    "def get_glossaire(soup):\n",
    "    glossaire = []\n",
    "    div = soup.find(\"div\", {\"class\" : \"mw-parser-output\"})\n",
    "    uls = div.find_all(\"ul\")\n",
    "    for i, ul in enumerate(uls):\n",
    "        lis = ul.find_all(\"li\")\n",
    "        for li in lis:\n",
    "            if li.find(\"b\") != None:\n",
    "                glossaire.append(li.get_text().split(' ')[0][:-2])    \n",
    "    return glossaire"
   ]
  },
  {
   "cell_type": "code",
   "execution_count": 234,
   "id": "cf523ff4",
   "metadata": {},
   "outputs": [],
   "source": [
    "glossaire = get_glossaire(soup)"
   ]
  },
  {
   "cell_type": "code",
   "execution_count": 235,
   "id": "f2db2b95",
   "metadata": {},
   "outputs": [
    {
     "data": {
      "text/plain": [
       "1082"
      ]
     },
     "execution_count": 235,
     "metadata": {},
     "output_type": "execute_result"
    }
   ],
   "source": [
    "len(glossaire)"
   ]
  },
  {
   "cell_type": "code",
   "execution_count": 178,
   "id": "9836ce54-5ad8-42e1-8a8b-9ef2d174d2c1",
   "metadata": {},
   "outputs": [],
   "source": [
    "organes = [\n",
    "    \"racine\",\n",
    "    \"tige\",\n",
    "    \"bourgeons\",\n",
    "    \"rhizome\",\n",
    "    \"tubercule\",\n",
    "    \"bulbe\",\n",
    "    \"collet\",\n",
    "    \"limbe\",\n",
    "    \"petiole\",\n",
    "    \"sessile\",\n",
    "    \"foliole\",\n",
    "    \"calice\",\n",
    "    \"sepale\",\n",
    "    \"calicule\",\n",
    "    \"tepale\",\n",
    "    \"corolle\"\n",
    "]"
   ]
  },
  {
   "cell_type": "code",
   "execution_count": 179,
   "id": "3abdc9f5-57e2-404f-a75c-8750bb2bada5",
   "metadata": {},
   "outputs": [],
   "source": [
    "def get_organ(line, organ):\n",
    "    l = line.strip()\n",
    "    l = l.replace('  ',' ')\n",
    "    l = f_remove_accents(l)\n",
    "    start = line.find(organ)\n",
    "    if start == -1:\n",
    "        return None\n",
    "    else:\n",
    "        return (line.find(organ), line.find(organ) +len(organ))  "
   ]
  },
  {
   "cell_type": "code",
   "execution_count": 184,
   "id": "fd3a7a59-e5fa-4004-9138-0cf30422079d",
   "metadata": {},
   "outputs": [
    {
     "name": "stdout",
     "output_type": "stream",
     "text": [
      "=============================================================\n",
      "data/Flore du Cameroun tome 2 1964 Sapotacees\n",
      "(37, 44)\n",
      "tification, deux groupes : fleurs subsessiles ou 4.res courtement\n",
      "(19, 26)\n",
      "dessous. fleurs subsessiles :\n",
      "(10, 17)\n",
      "fleurs subsessiles. appendices de la corolle divises.\n",
      "(10, 17)\n",
      "1. fleurs sessiles, entourees de bractees densement pubescentes. feuilles\n",
      "(7, 14)\n",
      "fleurs sessiles, entourees de bractees largement ovees, tomen-\n",
      "(0, 7)\n",
      "sessiles, a ± 10 graines. graines carenees, plates, a cicatrice\n",
      "(29, 36)\n",
      "fruits spheriques jaunes, subsessiles, glabres, atteignant\n",
      "(54, 61)\n",
      "que les lobes. antheres extrorses, cordees a la base, sessiles, env.\n",
      "(28, 35)\n",
      "fleurs pentameres, petites, sessiles ou courtement pedi-\n",
      "(52, 59)\n",
      "2. grandes feuilles obovees-oblongues allongees, subsessiles, cordees\n",
      "(35, 42)\n",
      "2'. grandes feuilles oblongues, subsessiles, largement cordees ou auri-\n",
      "(7, 14)\n",
      "fleurs sessiles, fasciculees. calice brun, pubescent, 4 mm\n",
      "(13, 20)\n",
      "feuilles, subsessiles. corolle haute de 7 mm; lobes 3,5-4 mm;\n",
      "(25, 32)\n",
      "petites fleurs blanches, sessiles, en glomerules. calice cupu-\n",
      "(17, 24)\n",
      "fruits globuleux sessiles, environ i,5 cm diametre, vert\n",
      "(7, 14)\n",
      "fleurs sessiles 7. g. perpulchra\n",
      "(14, 21)\n",
      "au sommet, subsessile, jaune a maturite, pulpe a gout acidule,\n",
      "(15, 22)\n",
      "petites fleurs sessiles. calice rouge tomenteux. corolle envi-\n",
      "(17, 24)\n",
      "fruits globuleux sessiles 3-4 cm diametre, tomenteux rouge-\n",
      "(24, 31)\n",
      "fruits jaunes, glabres, sessiles; deforme variable: spheriques,\n",
      "(40, 47)\n",
      "mais a sommet apicule, coteles, jaunes, sessiles, environ 3,5 cm\n",
      "(5, 12)\n",
      "tre, sessiles. petite bractee tomenteuse a la base de la fleur.\n"
     ]
    }
   ],
   "source": [
    "famille =[]\n",
    "famille_ = []\n",
    "tailles = []\n",
    "\n",
    "#for f in folder:\n",
    "path = 'data/' + 'Flore du Cameroun tome 2 1964 Sapotacees'\n",
    "print(\"=============================================================\")\n",
    "print(path)\n",
    "for i in range(len(os.listdir(path))):\n",
    "    with open(path+'/'+ str(i+1) +'.txt', 'r') as fp:\n",
    "        lines = fp.readlines()\n",
    "        for j in range(len(lines)):\n",
    "            l = preprocess(lines[j])\n",
    "            l = f_remove_accents(l)\n",
    "            \n",
    "            ind = get_organ(l, \"sessile\")\n",
    "            if(ind != None):\n",
    "                print(ind)\n",
    "                print(l)"
   ]
  },
  {
   "cell_type": "code",
   "execution_count": 9,
   "id": "244b2385-dd3b-4ab1-a4d3-114822c747a6",
   "metadata": {},
   "outputs": [],
   "source": [
    "import spacy"
   ]
  },
  {
   "cell_type": "code",
   "execution_count": 10,
   "id": "3e556c25-d3f6-41bc-97a4-39dfe66075cf",
   "metadata": {},
   "outputs": [],
   "source": [
    "from nltk.tokenize import sent_tokenize"
   ]
  },
  {
   "cell_type": "code",
   "execution_count": 11,
   "id": "91c97b17",
   "metadata": {},
   "outputs": [],
   "source": [
    "sentences = sent_tokenize(content)"
   ]
  },
  {
   "cell_type": "code",
   "execution_count": 17,
   "id": "f74bd3a3",
   "metadata": {
    "scrolled": true
   },
   "outputs": [
    {
     "name": "stdout",
     "output_type": "stream",
     "text": [
      "Feuilles obovées oblongues à oblancéolées, arrondies ou obtusément acuminées au sommet, atténuées et cunéiformes à la base, 12-25 cm long, 4-8 cm large, glabres.\n",
      "================\n",
      "Environ 10 paires de nervures secondaires, saillantes dessous.\n",
      "================\n",
      "Nervilles peu apparentes sur la face supérieure qui est mate.\n",
      "================\n",
      "Pétiole court.\n",
      "================\n",
      "Fleurs à pédicelles de i cm env.\n",
      "================\n",
      "Sépales épais, vert jaunâtre, glabres ou glabrescents.\n",
      "================\n",
      "Corolle blanche, longue de 1,8 cm environ; lobes elliptiques, ciliés sur les bords, n mm; tube 6 mm.\n",
      "================\n",
      "Fleurs hermaphrodites : 5-6 étamines par faisceau, aussi longues que les lobes.\n",
      "================\n",
      "Dans les fleurs femelles, ces étamines sont remplacées par des staminodes subulés.\n",
      "================\n",
      "Ovaire glabre.\n",
      "================\n",
      "Une trentaine de loges uniovulées autour de la partie centrale évidée.\n",
      "================\n",
      "Gros fruits subglobuleux aplat îs, gris brunâtre, environ i5 cm diamètre et 8 cm haut.\n",
      "================\n",
      "Certains pèsent à l'état frais plus de 2 kg.\n",
      "================\n",
      "Ils sont durs extérieurement et contiennent, à l'intérieur d'une pulpe blanchâtre, de nombreuses graines noires plates, elliptiques, de 4 cm long env.\n",
      "================\n",
      "et 2,5 cm large, à cicatrice linéaire ventrale (i).\n",
      "================\n",
      "— PL.\n",
      "================\n",
      "XI.\n",
      "================\n",
      "NOMS VERNACULAIRES : abo, aboc (yaoundé), pimbi (douala), bélé (bassa).\n",
      "================\n",
      "MATÉRIEL CAMEROUNAIS ÉTUDIÉ : Mann n° 712, Cameroun riv.\n",
      "================\n",
      "; 815, Bagroo riv.\n",
      "================\n",
      "Fleury n° 33275, Douala, commun.\n",
      "================\n",
      "Hédin n° 1648 (fr.\n",
      "================\n",
      "janv.).\n",
      "================\n",
      "Foury n° 112, Yaoundé.\n",
      "================\n",
      "Jacques-Félix n° 2461.\n",
      "================\n",
      "Zenker n° 45o, 2258 Bipindi.\n",
      "================\n",
      "3.\n",
      "================\n",
      "Omphalocarpum Lecomteanum Pierre ex Engl.\n",
      "================\n",
      "Sapotacées africaines : i5 (1904).\n",
      "================\n",
      "= O. bomanehensis De Wild., Miss.\n",
      "================\n",
      "Em.\n",
      "================\n",
      "Laurent, 1 : 422 (1907).\n",
      "================\n",
      "= O. injoloënse De Wild., Rev.\n",
      "================\n",
      "Zool.\n",
      "================\n",
      "Afr., 7 : Suppl.\n",
      "================\n",
      "Bot.\n",
      "================\n",
      ": 7 (1919)?\n",
      "================\n",
      "= O. Mildbraedii Engler et Krause, Engl.\n",
      "================\n",
      "Jahrb.\n",
      "================\n",
      ": 381 (igi3).\n",
      "================\n",
      "= O.\n",
      "================\n",
      "Le Testui Aubr.\n",
      "================\n",
      "et Pellegr., AUBRÉVILLE Not.\n",
      "================\n",
      "Syst.\n",
      "================\n",
      "16, 3-4 : 273 (I960); Fl.\n",
      "================\n",
      "Gabon, 1 : 79 (1961).\n",
      "================\n",
      "(1) Des fruits mûrs récoltés au Gabon (Le Testu n° 7447, Hallé et Cours n° 5996), sont nettement plus petits, 8-9 cm de diamètre, 7 cm d'épaisseur et de couleur brun noirâtre.\n",
      "================\n",
      "Ils sont typiquement déprimés au sommet.\n",
      "================\n"
     ]
    }
   ],
   "source": [
    "for s in sentences:\n",
    "    s = s.strip()\n",
    "    s = s.replace(\" \\n\", \" \")\n",
    "    s = s.replace(\"-\\n\", \"\")\n",
    "    print(s)\n",
    "    print(\"================\")"
   ]
  },
  {
   "cell_type": "markdown",
   "id": "e10eb824-bdc3-4bda-a763-894cfcdb4bc1",
   "metadata": {},
   "source": [
    "# Tesseract OCR"
   ]
  },
  {
   "cell_type": "code",
   "execution_count": null,
   "id": "c2a08c52-cb42-427e-9049-ed071f36c106",
   "metadata": {},
   "outputs": [],
   "source": [
    "import os\n",
    "from PIL import Image\n",
    "from pdf2image import convert_from_path\n",
    "import pytesseract\n",
    "\n",
    "pytesseract.pytesseract.tesseract_cmd =r'C:\\Users\\NEW-USER\\AppData\\Local\\Tesseract-OCR\\tesseract.exe'\n",
    "poppler_path = r\"C:\\Users\\NEW-USER\\AppData\\Local\\poppler-22.04.0\\Library\\bin\""
   ]
  },
  {
   "cell_type": "code",
   "execution_count": null,
   "id": "8532e605-5612-4bc4-ae91-70ac0fcc0973",
   "metadata": {},
   "outputs": [],
   "source": [
    "from pdf2image import convert_from_path\n",
    "from pytesseract import image_to_string\n",
    "from PIL import Image"
   ]
  },
  {
   "cell_type": "code",
   "execution_count": null,
   "id": "b2dc70a5-4247-4ced-bf2a-ed433f2b7484",
   "metadata": {},
   "outputs": [],
   "source": [
    "def convert_pdf_img(pdf_file):\n",
    "    return convert_from_path(pdf_file, poppler_path = poppler_path)\n",
    "def convert_img_txt(file):\n",
    "    text = image_to_string(file)\n",
    "    return text\n",
    "\n",
    "def get_text_from_any_pdf(pdf_file):\n",
    "    images = convert_pdf_img(pdf_file)\n",
    "    final_text = \"\"\n",
    "    for pg,img in enumerate(images):\n",
    "        print(pg)\n",
    "        final_text += convert_img_txt(img)\n",
    "    return final_text"
   ]
  },
  {
   "cell_type": "code",
   "execution_count": null,
   "id": "5e23dfac-c7b1-4aca-abd5-1a5dd6ec2d0d",
   "metadata": {},
   "outputs": [],
   "source": [
    "path_pdf = 'data/Flore du Cameroun tome 10 1970 Ombellales.pdf'\n",
    "pdf1 = get_text_from_any_pdf(path_pdf)\n",
    "print(pdf1)"
   ]
  }
 ],
 "metadata": {
  "kernelspec": {
   "display_name": "Python 3",
   "language": "python",
   "name": "python3"
  },
  "language_info": {
   "codemirror_mode": {
    "name": "ipython",
    "version": 3
   },
   "file_extension": ".py",
   "mimetype": "text/x-python",
   "name": "python",
   "nbconvert_exporter": "python",
   "pygments_lexer": "ipython3",
   "version": "3.10.0 (tags/v3.10.0:b494f59, Oct  4 2021, 19:00:18) [MSC v.1929 64 bit (AMD64)]"
  },
  "vscode": {
   "interpreter": {
    "hash": "56a72d4692ef0c1b231c46e32d3c17e6fd4335b61c614b1ca765a7c115f7edac"
   }
  }
 },
 "nbformat": 4,
 "nbformat_minor": 5
}
